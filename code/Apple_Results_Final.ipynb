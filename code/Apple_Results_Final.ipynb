{
  "nbformat": 4,
  "nbformat_minor": 0,
  "metadata": {
    "colab": {
      "name": "Apple_Results_Final.ipynb",
      "provenance": []
    },
    "deepnote_execution_queue": [],
    "deepnote_notebook_id": "96af970d-edbf-4ddb-a610-fecfae5e1dd7",
    "kernelspec": {
      "display_name": "Python 3",
      "name": "python3"
    }
  },
  "cells": [
    {
      "cell_type": "markdown",
      "metadata": {
        "id": "L6wiDFVbfqSX"
      },
      "source": [
        "# Team Apple - Project - Data Mining and Machine Learning\n",
        "# Testing Notebook\n",
        "This notebook was used in order to test and experiment with the different classifiers we have seen in class.\n",
        "## 🧭 Project description \n",
        "Real or Not? NLP with Disaster Tweets: In this project you are challenged to build a Machine Learning model that can predict which tweets are about a real disaster and which are not. The project topic is based around a Kaggle competition.\n",
        "\n",
        "## 👥 Team members\n",
        "- Stéphane Vez\n",
        "- Maël Maceiras\n",
        "- Pierre Huber\n",
        "\n"
      ]
    },
    {
      "cell_type": "markdown",
      "metadata": {
        "id": "98igjwdvhScf"
      },
      "source": [
        "## 📚 Libraries"
      ]
    },
    {
      "cell_type": "markdown",
      "metadata": {
        "id": "SxGNc-ZKMVgL"
      },
      "source": [
        "First of all, we will import all the packages that we thought that we might use in order to get the best model. Please run the cells below⤵️"
      ]
    },
    {
      "cell_type": "code",
      "metadata": {
        "colab": {
          "base_uri": "https://localhost:8080/"
        },
        "id": "VZ2B6cbtV_Io",
        "outputId": "7f6c6487-f411-4aea-81c1-645b28696930"
      },
      "source": [
        "!python -m pip install --upgrade pip"
      ],
      "execution_count": 87,
      "outputs": [
        {
          "output_type": "stream",
          "text": [
            "Requirement already satisfied: pip in /usr/local/lib/python3.6/dist-packages (20.3.2)\n",
            "Collecting pip\n",
            "  Using cached pip-20.3.1-py2.py3-none-any.whl (1.5 MB)\n",
            "  Downloading pip-20.3.1.tar.gz (1.5 MB)\n",
            "\u001b[K     |████████████████████████████████| 1.5 MB 5.9 MB/s \n",
            "\u001b[?25h  Installing build dependencies ... \u001b[?25l\u001b[?25hdone\n",
            "  Getting requirements to build wheel ... \u001b[?25l\u001b[?25hdone\n",
            "    Preparing wheel metadata ... \u001b[?25l\u001b[?25hdone\n",
            "  Downloading pip-20.3-py2.py3-none-any.whl (1.5 MB)\n",
            "\u001b[K     |████████████████████████████████| 1.5 MB 22.3 MB/s \n",
            "\u001b[?25h  Downloading pip-20.3.tar.gz (1.5 MB)\n",
            "\u001b[K     |████████████████████████████████| 1.5 MB 34.2 MB/s \n",
            "\u001b[?25h  Installing build dependencies ... \u001b[?25l\u001b[?25hdone\n",
            "  Getting requirements to build wheel ... \u001b[?25l\u001b[?25hdone\n",
            "    Preparing wheel metadata ... \u001b[?25l\u001b[?25hdone\n",
            "  Downloading pip-20.2.4-py2.py3-none-any.whl (1.5 MB)\n",
            "\u001b[K     |████████████████████████████████| 1.5 MB 54.7 MB/s \n",
            "\u001b[?25h  Downloading pip-20.2.4.tar.gz (1.5 MB)\n",
            "\u001b[K     |████████████████████████████████| 1.5 MB 59.7 MB/s \n",
            "\u001b[?25h  Installing build dependencies ... \u001b[?25l\u001b[?25hdone\n",
            "  Getting requirements to build wheel ... \u001b[?25l\u001b[?25hdone\n",
            "    Preparing wheel metadata ... \u001b[?25l\u001b[?25hdone\n",
            "  Downloading pip-20.2.3-py2.py3-none-any.whl (1.5 MB)\n",
            "\u001b[K     |████████████████████████████████| 1.5 MB 53.8 MB/s \n",
            "\u001b[?25h  Downloading pip-20.2.3.tar.gz (1.5 MB)\n",
            "\u001b[K     |████████████████████████████████| 1.5 MB 62.5 MB/s \n",
            "\u001b[?25h  Installing build dependencies ... \u001b[?25l\u001b[?25hdone\n",
            "  Getting requirements to build wheel ... \u001b[?25l\u001b[?25hdone\n",
            "    Preparing wheel metadata ... \u001b[?25l\u001b[?25hdone\n",
            "  Downloading pip-20.2.2-py2.py3-none-any.whl (1.5 MB)\n",
            "\u001b[K     |████████████████████████████████| 1.5 MB 57.5 MB/s \n",
            "\u001b[?25h  Downloading pip-20.2.2.tar.gz (1.5 MB)\n",
            "\u001b[K     |████████████████████████████████| 1.5 MB 51.1 MB/s \n",
            "\u001b[?25h  Installing build dependencies ... \u001b[?25l\u001b[?25hdone\n",
            "  Getting requirements to build wheel ... \u001b[?25l\u001b[?25hdone\n",
            "    Preparing wheel metadata ... \u001b[?25l\u001b[?25hdone\n",
            "  Downloading pip-20.2.1-py2.py3-none-any.whl (1.5 MB)\n",
            "\u001b[K     |████████████████████████████████| 1.5 MB 55.0 MB/s \n",
            "\u001b[?25h  Downloading pip-20.2.1.tar.gz (1.5 MB)\n",
            "\u001b[K     |████████████████████████████████| 1.5 MB 53.3 MB/s \n",
            "\u001b[?25h  Installing build dependencies ... \u001b[?25l\u001b[?25hdone\n",
            "  Getting requirements to build wheel ... \u001b[?25l\u001b[?25hdone\n",
            "    Preparing wheel metadata ... \u001b[?25l\u001b[?25hdone\n",
            "  Downloading pip-20.2-py2.py3-none-any.whl (1.5 MB)\n",
            "\u001b[K     |████████████████████████████████| 1.5 MB 37.6 MB/s \n",
            "\u001b[?25h  Downloading pip-20.2.tar.gz (1.5 MB)\n",
            "\u001b[K     |████████████████████████████████| 1.5 MB 58.0 MB/s \n",
            "\u001b[?25h  Installing build dependencies ... \u001b[?25l\u001b[?25hdone\n",
            "  Getting requirements to build wheel ... \u001b[?25l\u001b[?25hdone\n",
            "    Preparing wheel metadata ... \u001b[?25l\u001b[?25hdone\n",
            "  Downloading pip-20.1.1-py2.py3-none-any.whl (1.5 MB)\n",
            "\u001b[K     |████████████████████████████████| 1.5 MB 44.4 MB/s \n",
            "\u001b[?25h  Downloading pip-20.1.1.tar.gz (1.5 MB)\n",
            "\u001b[K     |████████████████████████████████| 1.5 MB 44.4 MB/s \n",
            "\u001b[?25h  Installing build dependencies ... \u001b[?25l\u001b[?25hdone\n",
            "  Getting requirements to build wheel ... \u001b[?25l\u001b[?25hdone\n",
            "    Preparing wheel metadata ... \u001b[?25l\u001b[?25hdone\n",
            "  Downloading pip-20.1-py2.py3-none-any.whl (1.5 MB)\n",
            "\u001b[K     |████████████████████████████████| 1.5 MB 54.8 MB/s \n",
            "\u001b[?25h  Downloading pip-20.1.tar.gz (1.5 MB)\n",
            "\u001b[K     |████████████████████████████████| 1.5 MB 57.2 MB/s \n",
            "\u001b[?25h  Installing build dependencies ... \u001b[?25l\u001b[?25hdone\n",
            "  Getting requirements to build wheel ... \u001b[?25l\u001b[?25hdone\n",
            "    Preparing wheel metadata ... \u001b[?25l\u001b[?25hdone\n",
            "  Downloading pip-20.0.2-py2.py3-none-any.whl (1.4 MB)\n",
            "\u001b[K     |████████████████████████████████| 1.4 MB 45.1 MB/s \n",
            "\u001b[?25h  Downloading pip-20.0.2.tar.gz (1.4 MB)\n",
            "\u001b[K     |████████████████████████████████| 1.4 MB 59.1 MB/s \n",
            "\u001b[?25h  Installing build dependencies ... \u001b[?25l\u001b[?25hdone\n",
            "  Getting requirements to build wheel ... \u001b[?25l\u001b[?25hdone\n",
            "    Preparing wheel metadata ... \u001b[?25l\u001b[?25hdone\n",
            "  Downloading pip-20.0.1-py2.py3-none-any.whl (1.5 MB)\n",
            "\u001b[K     |████████████████████████████████| 1.5 MB 53.0 MB/s \n",
            "\u001b[?25h  Downloading pip-20.0.1.tar.gz (1.4 MB)\n",
            "\u001b[K     |████████████████████████████████| 1.4 MB 49.6 MB/s \n",
            "\u001b[?25h  Installing build dependencies ... \u001b[?25l\u001b[?25hdone\n",
            "  Getting requirements to build wheel ... \u001b[?25l\u001b[?25hdone\n",
            "    Preparing wheel metadata ... \u001b[?25l\u001b[?25hdone\n",
            "  Downloading pip-19.3.1-py2.py3-none-any.whl (1.4 MB)\n",
            "\u001b[K     |████████████████████████████████| 1.4 MB 53.3 MB/s \n",
            "\u001b[?25h  Downloading pip-19.3.1.tar.gz (1.4 MB)\n",
            "\u001b[K     |████████████████████████████████| 1.4 MB 56.9 MB/s \n",
            "\u001b[?25h  Installing build dependencies ... \u001b[?25l\u001b[?25hdone\n",
            "  Getting requirements to build wheel ... \u001b[?25l\u001b[?25hdone\n",
            "    Preparing wheel metadata ... \u001b[?25l\u001b[?25hdone\n",
            "  Downloading pip-19.3-py2.py3-none-any.whl (1.4 MB)\n",
            "\u001b[K     |████████████████████████████████| 1.4 MB 40.3 MB/s \n",
            "\u001b[?25h  Downloading pip-19.3.tar.gz (1.4 MB)\n",
            "\u001b[K     |████████████████████████████████| 1.4 MB 53.6 MB/s \n",
            "\u001b[?25h  Installing build dependencies ... \u001b[?25l\u001b[?25hdone\n",
            "  Getting requirements to build wheel ... \u001b[?25l\u001b[?25hdone\n",
            "    Preparing wheel metadata ... \u001b[?25l\u001b[?25hdone\n",
            "  Downloading pip-19.2.3-py2.py3-none-any.whl (1.4 MB)\n",
            "\u001b[K     |████████████████████████████████| 1.4 MB 43.5 MB/s \n",
            "\u001b[?25h  Downloading pip-19.2.3.tar.gz (1.4 MB)\n",
            "\u001b[K     |████████████████████████████████| 1.4 MB 51.8 MB/s \n",
            "\u001b[?25h  Installing build dependencies ... \u001b[?25l\u001b[?25hdone\n",
            "  Getting requirements to build wheel ... \u001b[?25l\u001b[?25hdone\n",
            "    Preparing wheel metadata ... \u001b[?25l\u001b[?25hdone\n",
            "  Downloading pip-19.2.2-py2.py3-none-any.whl (1.4 MB)\n",
            "\u001b[K     |████████████████████████████████| 1.4 MB 51.6 MB/s \n",
            "\u001b[?25h  Downloading pip-19.2.2.tar.gz (1.4 MB)\n",
            "\u001b[K     |████████████████████████████████| 1.4 MB 51.6 MB/s \n",
            "\u001b[?25h  Installing build dependencies ... \u001b[?25l\u001b[?25hdone\n",
            "  Getting requirements to build wheel ... \u001b[?25l\u001b[?25hdone\n",
            "    Preparing wheel metadata ... \u001b[?25l\u001b[?25hdone\n",
            "  Downloading pip-19.2.1-py2.py3-none-any.whl (1.4 MB)\n",
            "\u001b[K     |████████████████████████████████| 1.4 MB 44.6 MB/s \n",
            "\u001b[?25h  Downloading pip-19.2.1.tar.gz (1.4 MB)\n",
            "\u001b[K     |████████████████████████████████| 1.4 MB 47.6 MB/s \n",
            "\u001b[?25h  Installing build dependencies ... \u001b[?25l\u001b[?25hdone\n",
            "  Getting requirements to build wheel ... \u001b[?25l\u001b[?25hdone\n",
            "    Preparing wheel metadata ... \u001b[?25l\u001b[?25hdone\n",
            "  Downloading pip-19.2-py2.py3-none-any.whl (1.4 MB)\n",
            "\u001b[K     |████████████████████████████████| 1.4 MB 49.8 MB/s \n",
            "\u001b[?25h  Downloading pip-19.2.tar.gz (1.4 MB)\n",
            "\u001b[K     |████████████████████████████████| 1.4 MB 57.0 MB/s \n",
            "\u001b[?25h  Installing build dependencies ... \u001b[?25l\u001b[?25hdone\n",
            "  Getting requirements to build wheel ... \u001b[?25l\u001b[?25hdone\n",
            "    Preparing wheel metadata ... \u001b[?25l\u001b[?25hdone\n",
            "  Downloading pip-19.1.1-py2.py3-none-any.whl (1.4 MB)\n",
            "\u001b[K     |████████████████████████████████| 1.4 MB 51.2 MB/s \n",
            "\u001b[?25h  Downloading pip-19.1.1.tar.gz (1.3 MB)\n",
            "\u001b[K     |████████████████████████████████| 1.3 MB 58.4 MB/s \n",
            "\u001b[?25h  Installing build dependencies ... \u001b[?25l\u001b[?25hdone\n",
            "  Getting requirements to build wheel ... \u001b[?25l\u001b[?25hdone\n",
            "    Preparing wheel metadata ... \u001b[?25l\u001b[?25hdone\n",
            "  Downloading pip-19.1-py2.py3-none-any.whl (1.4 MB)\n",
            "\u001b[K     |████████████████████████████████| 1.4 MB 51.4 MB/s \n",
            "\u001b[?25h  Downloading pip-19.1.tar.gz (1.3 MB)\n",
            "\u001b[K     |████████████████████████████████| 1.3 MB 55.8 MB/s \n",
            "\u001b[?25h  Installing build dependencies ... \u001b[?25l\u001b[?25hdone\n",
            "  Getting requirements to build wheel ... \u001b[?25l\u001b[?25hdone\n",
            "    Preparing wheel metadata ... \u001b[?25l\u001b[?25hdone\n",
            "  Downloading pip-19.0.3-py2.py3-none-any.whl (1.4 MB)\n",
            "\u001b[K     |████████████████████████████████| 1.4 MB 53.0 MB/s \n",
            "\u001b[?25h  Downloading pip-19.0.3.tar.gz (1.3 MB)\n",
            "\u001b[K     |████████████████████████████████| 1.3 MB 55.3 MB/s \n",
            "\u001b[?25h  Installing build dependencies ... \u001b[?25l\u001b[?25hdone\n",
            "  Getting requirements to build wheel ... \u001b[?25l\u001b[?25hdone\n",
            "    Preparing wheel metadata ... \u001b[?25l\u001b[?25hdone\n",
            "  Downloading pip-19.0.2-py2.py3-none-any.whl (1.4 MB)\n",
            "\u001b[K     |████████████████████████████████| 1.4 MB 37.0 MB/s \n",
            "\u001b[?25h  Downloading pip-19.0.2.tar.gz (1.3 MB)\n",
            "\u001b[K     |████████████████████████████████| 1.3 MB 52.6 MB/s \n",
            "\u001b[?25h  Installing build dependencies ... \u001b[?25l\u001b[?25hdone\n",
            "  Getting requirements to build wheel ... \u001b[?25l\u001b[?25hdone\n",
            "    Preparing wheel metadata ... \u001b[?25l\u001b[?25hdone\n",
            "  Downloading pip-19.0.1-py2.py3-none-any.whl (1.4 MB)\n",
            "\u001b[K     |████████████████████████████████| 1.4 MB 50.6 MB/s \n",
            "\u001b[?25h  Downloading pip-19.0.1.tar.gz (1.3 MB)\n",
            "\u001b[K     |████████████████████████████████| 1.3 MB 58.2 MB/s \n",
            "\u001b[?25h  Installing build dependencies ... \u001b[?25l\u001b[?25hdone\n",
            "  Getting requirements to build wheel ... \u001b[?25l\u001b[?25hdone\n",
            "    Preparing wheel metadata ... \u001b[?25l\u001b[?25hdone\n",
            "  Downloading pip-19.0-py2.py3-none-any.whl (1.4 MB)\n",
            "\u001b[K     |████████████████████████████████| 1.4 MB 53.4 MB/s \n",
            "\u001b[?25h  Downloading pip-19.0.tar.gz (1.3 MB)\n",
            "\u001b[K     |████████████████████████████████| 1.3 MB 50.4 MB/s \n",
            "\u001b[?25h  Installing build dependencies ... \u001b[?25l\u001b[?25hdone\n",
            "  Getting requirements to build wheel ... \u001b[?25l\u001b[?25hdone\n",
            "    Preparing wheel metadata ... \u001b[?25l\u001b[?25hdone\n",
            "  Downloading pip-18.1-py2.py3-none-any.whl (1.3 MB)\n",
            "\u001b[K     |████████████████████████████████| 1.3 MB 43.9 MB/s \n",
            "\u001b[?25h  Downloading pip-18.1.tar.gz (1.3 MB)\n",
            "\u001b[K     |████████████████████████████████| 1.3 MB 46.8 MB/s \n",
            "\u001b[?25h  Installing build dependencies ... \u001b[?25l\u001b[?25hdone\n",
            "  Getting requirements to build wheel ... \u001b[?25l\u001b[?25hdone\n",
            "    Preparing wheel metadata ... \u001b[?25l\u001b[?25hdone\n",
            "  Downloading pip-18.0-py2.py3-none-any.whl (1.3 MB)\n",
            "\u001b[K     |████████████████████████████████| 1.3 MB 43.8 MB/s \n",
            "\u001b[?25h  Downloading pip-18.0.tar.gz (1.2 MB)\n",
            "\u001b[K     |████████████████████████████████| 1.2 MB 48.0 MB/s \n",
            "\u001b[?25h  Installing build dependencies ... \u001b[?25l\u001b[?25hdone\n",
            "  Getting requirements to build wheel ... \u001b[?25l\u001b[?25hdone\n",
            "    Preparing wheel metadata ... \u001b[?25l\u001b[?25hdone\n",
            "  Downloading pip-10.0.1-py2.py3-none-any.whl (1.3 MB)\n",
            "\u001b[K     |████████████████████████████████| 1.3 MB 46.1 MB/s \n",
            "\u001b[?25h  Downloading pip-10.0.1.tar.gz (1.2 MB)\n",
            "\u001b[K     |████████████████████████████████| 1.2 MB 50.0 MB/s \n",
            "\u001b[?25h  Installing build dependencies ... \u001b[?25l\u001b[?25hdone\n",
            "  Getting requirements to build wheel ... \u001b[?25l\u001b[?25hdone\n",
            "    Preparing wheel metadata ... \u001b[?25l\u001b[?25hdone\n",
            "  Downloading pip-10.0.0-py2.py3-none-any.whl (1.3 MB)\n",
            "\u001b[K     |████████████████████████████████| 1.3 MB 40.2 MB/s \n",
            "\u001b[?25h  Downloading pip-10.0.0.tar.gz (1.2 MB)\n",
            "\u001b[K     |████████████████████████████████| 1.2 MB 64.2 MB/s \n",
            "\u001b[?25h  Installing build dependencies ... \u001b[?25l\u001b[?25hdone\n",
            "  Getting requirements to build wheel ... \u001b[?25l\u001b[?25hdone\n",
            "    Preparing wheel metadata ... \u001b[?25l\u001b[?25hdone\n",
            "  Downloading pip-9.0.3-py2.py3-none-any.whl (1.4 MB)\n",
            "\u001b[K     |████████████████████████████████| 1.4 MB 51.7 MB/s \n",
            "\u001b[?25h  Downloading pip-9.0.3.tar.gz (1.3 MB)\n",
            "\u001b[K     |████████████████████████████████| 1.3 MB 46.6 MB/s \n",
            "\u001b[?25h  Downloading pip-9.0.2-py2.py3-none-any.whl (1.4 MB)\n",
            "\u001b[K     |████████████████████████████████| 1.4 MB 47.1 MB/s \n",
            "\u001b[?25h  Downloading pip-9.0.2.tar.gz (1.3 MB)\n",
            "\u001b[K     |████████████████████████████████| 1.3 MB 56.9 MB/s \n",
            "\u001b[?25h  Downloading pip-9.0.1-py2.py3-none-any.whl (1.3 MB)\n",
            "\u001b[K     |████████████████████████████████| 1.3 MB 53.3 MB/s \n",
            "\u001b[?25h  Downloading pip-9.0.1.tar.gz (1.2 MB)\n",
            "\u001b[K     |████████████████████████████████| 1.2 MB 58.6 MB/s \n",
            "\u001b[?25h  Downloading pip-9.0.0-py2.py3-none-any.whl (1.3 MB)\n",
            "\u001b[K     |████████████████████████████████| 1.3 MB 54.6 MB/s \n",
            "\u001b[?25h  Downloading pip-9.0.0.tar.gz (1.2 MB)\n",
            "\u001b[K     |████████████████████████████████| 1.2 MB 49.6 MB/s \n",
            "\u001b[?25h  Downloading pip-8.1.2-py2.py3-none-any.whl (1.2 MB)\n",
            "\u001b[K     |████████████████████████████████| 1.2 MB 52.7 MB/s \n",
            "\u001b[?25h  Downloading pip-8.1.2.tar.gz (1.1 MB)\n",
            "\u001b[K     |████████████████████████████████| 1.1 MB 56.9 MB/s \n",
            "\u001b[?25h  Downloading pip-8.1.1-py2.py3-none-any.whl (1.2 MB)\n",
            "\u001b[K     |████████████████████████████████| 1.2 MB 52.3 MB/s \n",
            "\u001b[?25h  Downloading pip-8.1.1.tar.gz (1.1 MB)\n",
            "\u001b[K     |████████████████████████████████| 1.1 MB 51.4 MB/s \n",
            "\u001b[?25h  Downloading pip-8.1.0-py2.py3-none-any.whl (1.2 MB)\n",
            "\u001b[K     |████████████████████████████████| 1.2 MB 51.0 MB/s \n",
            "\u001b[?25h  Downloading pip-8.1.0.tar.gz (1.1 MB)\n",
            "\u001b[K     |████████████████████████████████| 1.1 MB 58.6 MB/s \n",
            "\u001b[?25h  Downloading pip-8.0.3-py2.py3-none-any.whl (1.2 MB)\n",
            "\u001b[K     |████████████████████████████████| 1.2 MB 52.8 MB/s \n",
            "\u001b[?25h  Downloading pip-8.0.3.tar.gz (1.1 MB)\n",
            "\u001b[K     |████████████████████████████████| 1.1 MB 56.0 MB/s \n",
            "\u001b[?25h  Downloading pip-8.0.2-py2.py3-none-any.whl (1.2 MB)\n",
            "\u001b[K     |████████████████████████████████| 1.2 MB 44.8 MB/s \n",
            "\u001b[?25h  Downloading pip-8.0.2.tar.gz (1.1 MB)\n",
            "\u001b[K     |████████████████████████████████| 1.1 MB 49.9 MB/s \n",
            "\u001b[?25h  Downloading pip-8.0.1-py2.py3-none-any.whl (1.2 MB)\n",
            "\u001b[K     |████████████████████████████████| 1.2 MB 42.4 MB/s \n",
            "\u001b[?25h  Downloading pip-8.0.1.tar.gz (1.1 MB)\n",
            "\u001b[K     |████████████████████████████████| 1.1 MB 56.3 MB/s \n",
            "\u001b[?25h  Downloading pip-8.0.0-py2.py3-none-any.whl (1.2 MB)\n",
            "\u001b[K     |████████████████████████████████| 1.2 MB 40.2 MB/s \n",
            "\u001b[?25h  Downloading pip-8.0.0.tar.gz (1.1 MB)\n",
            "\u001b[K     |████████████████████████████████| 1.1 MB 53.6 MB/s \n",
            "\u001b[?25h  Downloading pip-7.1.2-py2.py3-none-any.whl (1.1 MB)\n",
            "\u001b[K     |████████████████████████████████| 1.1 MB 52.5 MB/s \n",
            "\u001b[?25h  Downloading pip-7.1.2.tar.gz (1.0 MB)\n",
            "\u001b[K     |████████████████████████████████| 1.0 MB 49.1 MB/s \n",
            "\u001b[?25h  Downloading pip-7.1.1-py2.py3-none-any.whl (1.1 MB)\n",
            "\u001b[K     |████████████████████████████████| 1.1 MB 52.7 MB/s \n",
            "\u001b[?25h  Downloading pip-7.1.1.tar.gz (1.0 MB)\n",
            "\u001b[K     |████████████████████████████████| 1.0 MB 56.9 MB/s \n",
            "\u001b[?25h  Downloading pip-7.1.0-py2.py3-none-any.whl (1.1 MB)\n",
            "\u001b[K     |████████████████████████████████| 1.1 MB 52.1 MB/s \n",
            "\u001b[?25h  Downloading pip-7.1.0.tar.gz (1.0 MB)\n",
            "\u001b[K     |████████████████████████████████| 1.0 MB 51.9 MB/s \n",
            "\u001b[?25h  Downloading pip-7.0.3-py2.py3-none-any.whl (1.1 MB)\n",
            "\u001b[K     |████████████████████████████████| 1.1 MB 52.4 MB/s \n",
            "\u001b[?25h  Downloading pip-7.0.3.tar.gz (1.1 MB)\n",
            "\u001b[K     |████████████████████████████████| 1.1 MB 61.0 MB/s \n",
            "\u001b[?25h  Downloading pip-7.0.2-py2.py3-none-any.whl (1.1 MB)\n",
            "\u001b[K     |████████████████████████████████| 1.1 MB 53.8 MB/s \n",
            "\u001b[?25h  Downloading pip-7.0.2.tar.gz (1.1 MB)\n",
            "\u001b[K     |████████████████████████████████| 1.1 MB 61.6 MB/s \n",
            "\u001b[?25h  Downloading pip-7.0.1-py2.py3-none-any.whl (1.1 MB)\n",
            "\u001b[K     |████████████████████████████████| 1.1 MB 44.4 MB/s \n",
            "\u001b[?25h  Downloading pip-7.0.1.tar.gz (1.1 MB)\n",
            "\u001b[K     |████████████████████████████████| 1.1 MB 51.9 MB/s \n",
            "\u001b[?25h  Downloading pip-7.0.0-py2.py3-none-any.whl (1.1 MB)\n",
            "\u001b[K     |████████████████████████████████| 1.1 MB 44.3 MB/s \n",
            "\u001b[?25h  Downloading pip-7.0.0.tar.gz (1.1 MB)\n",
            "\u001b[K     |████████████████████████████████| 1.1 MB 51.0 MB/s \n",
            "\u001b[?25h  Downloading pip-6.1.1-py2.py3-none-any.whl (1.1 MB)\n",
            "\u001b[K     |████████████████████████████████| 1.1 MB 51.8 MB/s \n",
            "\u001b[?25h  Downloading pip-6.1.1.tar.gz (1.1 MB)\n",
            "\u001b[K     |████████████████████████████████| 1.1 MB 58.3 MB/s \n",
            "\u001b[?25h  Downloading pip-6.1.0-py2.py3-none-any.whl (1.1 MB)\n",
            "\u001b[K     |████████████████████████████████| 1.1 MB 44.6 MB/s \n",
            "\u001b[?25h  Downloading pip-6.1.0.tar.gz (1.1 MB)\n",
            "\u001b[K     |████████████████████████████████| 1.1 MB 55.7 MB/s \n",
            "\u001b[?25h  Downloading pip-6.0.8-py2.py3-none-any.whl (1.3 MB)\n",
            "\u001b[K     |████████████████████████████████| 1.3 MB 44.3 MB/s \n",
            "\u001b[?25h  Downloading pip-6.0.8.tar.gz (1.2 MB)\n",
            "\u001b[K     |████████████████████████████████| 1.2 MB 59.0 MB/s \n",
            "\u001b[?25h  Downloading pip-6.0.7-py2.py3-none-any.whl (1.3 MB)\n",
            "\u001b[K     |████████████████████████████████| 1.3 MB 44.4 MB/s \n",
            "\u001b[?25h  Downloading pip-6.0.7.tar.gz (1.2 MB)\n",
            "\u001b[K     |████████████████████████████████| 1.2 MB 54.9 MB/s \n",
            "\u001b[?25h  Downloading pip-6.0.6-py2.py3-none-any.whl (1.3 MB)\n",
            "\u001b[K     |████████████████████████████████| 1.3 MB 50.2 MB/s \n",
            "\u001b[?25h  Downloading pip-6.0.6.tar.gz (1.2 MB)\n",
            "\u001b[K     |████████████████████████████████| 1.2 MB 58.8 MB/s \n",
            "\u001b[?25h  Downloading pip-6.0.5-py2.py3-none-any.whl (1.3 MB)\n",
            "\u001b[K     |████████████████████████████████| 1.3 MB 47.5 MB/s \n",
            "\u001b[?25h  Downloading pip-6.0.5.tar.gz (1.2 MB)\n",
            "\u001b[K     |████████████████████████████████| 1.2 MB 61.0 MB/s \n",
            "\u001b[?25h  Downloading pip-6.0.4-py2.py3-none-any.whl (1.3 MB)\n",
            "\u001b[K     |████████████████████████████████| 1.3 MB 44.7 MB/s \n",
            "\u001b[?25h  Downloading pip-6.0.4.tar.gz (1.2 MB)\n",
            "\u001b[K     |████████████████████████████████| 1.2 MB 42.4 MB/s \n",
            "\u001b[?25h  Downloading pip-6.0.3-py2.py3-none-any.whl (1.3 MB)\n",
            "\u001b[K     |████████████████████████████████| 1.3 MB 50.8 MB/s \n",
            "\u001b[?25h  Downloading pip-6.0.3.tar.gz (1.2 MB)\n",
            "\u001b[K     |████████████████████████████████| 1.2 MB 47.6 MB/s \n",
            "\u001b[?25h  Downloading pip-6.0.2-py2.py3-none-any.whl (1.3 MB)\n",
            "\u001b[K     |████████████████████████████████| 1.3 MB 53.1 MB/s \n",
            "\u001b[?25h  Downloading pip-6.0.2.tar.gz (1.2 MB)\n",
            "\u001b[K     |████████████████████████████████| 1.2 MB 55.2 MB/s \n",
            "\u001b[?25h  Downloading pip-6.0.1-py2.py3-none-any.whl (1.3 MB)\n",
            "\u001b[K     |████████████████████████████████| 1.3 MB 53.3 MB/s \n",
            "\u001b[?25h  Downloading pip-6.0.1.tar.gz (1.2 MB)\n",
            "\u001b[K     |████████████████████████████████| 1.2 MB 51.8 MB/s \n",
            "\u001b[?25h  Downloading pip-6.0-py2.py3-none-any.whl (1.3 MB)\n",
            "\u001b[K     |████████████████████████████████| 1.3 MB 43.5 MB/s \n",
            "\u001b[?25h  Downloading pip-6.0.tar.gz (1.2 MB)\n",
            "\u001b[K     |████████████████████████████████| 1.2 MB 60.3 MB/s \n",
            "\u001b[?25h  Downloading pip-1.5.6-py2.py3-none-any.whl (1.0 MB)\n",
            "\u001b[K     |████████████████████████████████| 1.0 MB 51.8 MB/s \n",
            "\u001b[?25h  Downloading pip-1.5.6.tar.gz (938 kB)\n",
            "\u001b[K     |████████████████████████████████| 938 kB 56.8 MB/s \n",
            "\u001b[?25h  Downloading pip-1.5.5-py2.py3-none-any.whl (1.2 MB)\n",
            "\u001b[K     |████████████████████████████████| 1.2 MB 48.7 MB/s \n",
            "\u001b[?25h  Downloading pip-1.5.5.tar.gz (1.1 MB)\n",
            "\u001b[K     |████████████████████████████████| 1.1 MB 56.6 MB/s \n",
            "\u001b[?25h  Downloading pip-1.5.4-py2.py3-none-any.whl (1.2 MB)\n",
            "\u001b[K     |████████████████████████████████| 1.2 MB 52.0 MB/s \n",
            "\u001b[?25h  Downloading pip-1.5.4.tar.gz (1.1 MB)\n",
            "\u001b[K     |████████████████████████████████| 1.1 MB 56.1 MB/s \n",
            "\u001b[?25h  Downloading pip-1.5.3-py2.py3-none-any.whl (1.2 MB)\n",
            "\u001b[K     |████████████████████████████████| 1.2 MB 44.0 MB/s \n",
            "\u001b[?25h  Downloading pip-1.5.3.tar.gz (1.1 MB)\n",
            "\u001b[K     |████████████████████████████████| 1.1 MB 51.7 MB/s \n",
            "\u001b[?25h  Downloading pip-1.5.2-py2.py3-none-any.whl (1.2 MB)\n",
            "\u001b[K     |████████████████████████████████| 1.2 MB 54.2 MB/s \n",
            "\u001b[?25h  Downloading pip-1.5.2.tar.gz (1.1 MB)\n",
            "\u001b[K     |████████████████████████████████| 1.1 MB 45.8 MB/s \n",
            "\u001b[?25h  Downloading pip-1.5.1-py2.py3-none-any.whl (1.2 MB)\n",
            "\u001b[K     |████████████████████████████████| 1.2 MB 52.6 MB/s \n",
            "\u001b[?25h  Downloading pip-1.5.1.tar.gz (1.1 MB)\n",
            "\u001b[K     |████████████████████████████████| 1.1 MB 55.2 MB/s \n",
            "\u001b[?25h  Downloading pip-1.5.tar.gz (898 kB)\n",
            "\u001b[K     |████████████████████████████████| 898 kB 51.6 MB/s \n",
            "\u001b[?25h  Downloading pip-1.4.1.tar.gz (445 kB)\n",
            "\u001b[K     |████████████████████████████████| 445 kB 50.8 MB/s \n",
            "\u001b[?25h  Downloading pip-1.4.tar.gz (443 kB)\n",
            "\u001b[K     |████████████████████████████████| 443 kB 48.0 MB/s \n",
            "\u001b[?25h  Downloading pip-1.3.1.tar.gz (247 kB)\n",
            "\u001b[K     |████████████████████████████████| 247 kB 47.1 MB/s \n",
            "\u001b[?25h  Downloading pip-1.3.tar.gz (247 kB)\n",
            "\u001b[K     |████████████████████████████████| 247 kB 50.4 MB/s \n",
            "\u001b[?25h  Downloading pip-1.2.1.tar.gz (102 kB)\n",
            "\u001b[K     |████████████████████████████████| 102 kB 54.1 MB/s \n",
            "\u001b[?25h  Downloading pip-1.2.tar.gz (94 kB)\n",
            "\u001b[K     |████████████████████████████████| 94 kB 280 kB/s \n",
            "\u001b[?25h  Downloading pip-1.1.tar.gz (95 kB)\n",
            "\u001b[K     |████████████████████████████████| 95 kB 2.3 MB/s \n",
            "\u001b[?25h  Downloading pip-1.0.2.tar.gz (105 kB)\n",
            "\u001b[K     |████████████████████████████████| 105 kB 54.2 MB/s \n",
            "\u001b[?25h  Downloading pip-1.0.1.tar.gz (104 kB)\n",
            "\u001b[K     |████████████████████████████████| 104 kB 54.7 MB/s \n",
            "\u001b[?25h  Downloading pip-1.0.tar.gz (100 kB)\n",
            "\u001b[K     |████████████████████████████████| 100 kB 6.6 MB/s \n",
            "\u001b[?25h  Downloading pip-0.8.3.tar.gz (107 kB)\n",
            "\u001b[K     |████████████████████████████████| 107 kB 49.7 MB/s \n",
            "\u001b[?25h  Downloading pip-0.8.2.tar.gz (106 kB)\n",
            "\u001b[K     |████████████████████████████████| 106 kB 53.4 MB/s \n",
            "\u001b[?25h  Downloading pip-0.8.1.tar.gz (105 kB)\n",
            "\u001b[K     |████████████████████████████████| 105 kB 49.8 MB/s \n",
            "\u001b[?25h  Downloading pip-0.8.tar.gz (98 kB)\n",
            "\u001b[K     |████████████████████████████████| 98 kB 5.7 MB/s \n",
            "\u001b[?25h  Downloading pip-0.7.2.tar.gz (68 kB)\n",
            "\u001b[K     |████████████████████████████████| 68 kB 4.7 MB/s \n",
            "\u001b[?25h  Downloading pip-0.7.1.tar.gz (82 kB)\n",
            "\u001b[K     |████████████████████████████████| 82 kB 505 kB/s \n",
            "\u001b[?25h  Downloading pip-0.7.tar.gz (68 kB)\n",
            "\u001b[K     |████████████████████████████████| 68 kB 3.8 MB/s \n",
            "\u001b[?25h  Downloading pip-0.6.3.tar.gz (71 kB)\n",
            "\u001b[K     |████████████████████████████████| 71 kB 6.0 MB/s \n",
            "\u001b[?25h  Downloading pip-0.6.2.tar.gz (70 kB)\n",
            "\u001b[K     |████████████████████████████████| 70 kB 5.7 MB/s \n",
            "\u001b[?25h  Downloading pip-0.6.1.tar.gz (55 kB)\n",
            "\u001b[K     |████████████████████████████████| 55 kB 2.2 MB/s \n",
            "\u001b[?25h  Downloading pip-0.6.tar.gz (64 kB)\n",
            "\u001b[K     |████████████████████████████████| 64 kB 1.4 MB/s \n",
            "\u001b[?25h  Downloading pip-0.5.1.tar.gz (54 kB)\n",
            "\u001b[K     |████████████████████████████████| 54 kB 2.0 MB/s \n",
            "\u001b[?25h  Downloading pip-0.5.tar.gz (53 kB)\n",
            "\u001b[K     |████████████████████████████████| 53 kB 1.5 MB/s \n",
            "\u001b[?25h  Downloading pip-0.4.tar.gz (50 kB)\n",
            "\u001b[K     |████████████████████████████████| 50 kB 4.2 MB/s \n",
            "\u001b[?25h  Downloading pip-0.3.1.tar.gz (48 kB)\n",
            "\u001b[K     |████████████████████████████████| 48 kB 3.1 MB/s \n",
            "\u001b[?25h  Downloading pip-0.3.tar.gz (47 kB)\n",
            "\u001b[K     |████████████████████████████████| 47 kB 3.0 MB/s \n",
            "\u001b[33mWARNING: Discarding https://files.pythonhosted.org/packages/17/05/f66144ef69b436d07f8eeeb28b7f77137f80de4bf60349ec6f0f9509e801/pip-0.3.tar.gz#sha256=183c72455cb7f8860ac1376f8c4f14d7f545aeab8ee7c22cd4caf79f35a2ed47 (from https://pypi.org/simple/pip/). Requested pip from https://files.pythonhosted.org/packages/17/05/f66144ef69b436d07f8eeeb28b7f77137f80de4bf60349ec6f0f9509e801/pip-0.3.tar.gz#sha256=183c72455cb7f8860ac1376f8c4f14d7f545aeab8ee7c22cd4caf79f35a2ed47 has different version in metadata: '0.3.dev0'\u001b[0m\n",
            "\u001b[?25h  Downloading pip-0.2.1.tar.gz (39 kB)\n",
            "  Downloading pip-0.2.tar.gz (38 kB)\n"
          ],
          "name": "stdout"
        }
      ]
    },
    {
      "cell_type": "code",
      "metadata": {
        "colab": {
          "base_uri": "https://localhost:8080/"
        },
        "id": "UDSc22u5V_Ip",
        "outputId": "a69397c5-1d40-40d8-eac5-488f87afc9e4"
      },
      "source": [
        "!python -m pip install spacy"
      ],
      "execution_count": 88,
      "outputs": [
        {
          "output_type": "stream",
          "text": [
            "Requirement already satisfied: spacy in /usr/local/lib/python3.6/dist-packages (2.2.4)\n",
            "Requirement already satisfied: numpy>=1.15.0 in /usr/local/lib/python3.6/dist-packages (from spacy) (1.18.5)\n",
            "Requirement already satisfied: requests<3.0.0,>=2.13.0 in /usr/local/lib/python3.6/dist-packages (from spacy) (2.23.0)\n",
            "Requirement already satisfied: catalogue<1.1.0,>=0.0.7 in /usr/local/lib/python3.6/dist-packages (from spacy) (1.0.0)\n",
            "Requirement already satisfied: murmurhash<1.1.0,>=0.28.0 in /usr/local/lib/python3.6/dist-packages (from spacy) (1.0.5)\n",
            "Requirement already satisfied: plac<1.2.0,>=0.9.6 in /usr/local/lib/python3.6/dist-packages (from spacy) (1.1.3)\n",
            "Requirement already satisfied: thinc==7.4.0 in /usr/local/lib/python3.6/dist-packages (from spacy) (7.4.0)\n",
            "Requirement already satisfied: blis<0.5.0,>=0.4.0 in /usr/local/lib/python3.6/dist-packages (from spacy) (0.4.1)\n",
            "Requirement already satisfied: preshed<3.1.0,>=3.0.2 in /usr/local/lib/python3.6/dist-packages (from spacy) (3.0.5)\n",
            "Requirement already satisfied: wasabi<1.1.0,>=0.4.0 in /usr/local/lib/python3.6/dist-packages (from spacy) (0.8.0)\n",
            "Requirement already satisfied: srsly<1.1.0,>=1.0.2 in /usr/local/lib/python3.6/dist-packages (from spacy) (1.0.5)\n",
            "Requirement already satisfied: tqdm<5.0.0,>=4.38.0 in /usr/local/lib/python3.6/dist-packages (from spacy) (4.41.1)\n",
            "Requirement already satisfied: cymem<2.1.0,>=2.0.2 in /usr/local/lib/python3.6/dist-packages (from spacy) (2.0.5)\n",
            "Requirement already satisfied: setuptools in /usr/local/lib/python3.6/dist-packages (from spacy) (50.3.2)\n",
            "Requirement already satisfied: importlib-metadata>=0.20 in /usr/local/lib/python3.6/dist-packages (from catalogue<1.1.0,>=0.0.7->spacy) (3.1.1)\n",
            "Requirement already satisfied: zipp>=0.5 in /usr/local/lib/python3.6/dist-packages (from importlib-metadata>=0.20->catalogue<1.1.0,>=0.0.7->spacy) (3.4.0)\n",
            "Requirement already satisfied: chardet<4,>=3.0.2 in /usr/local/lib/python3.6/dist-packages (from requests<3.0.0,>=2.13.0->spacy) (3.0.4)\n",
            "Requirement already satisfied: certifi>=2017.4.17 in /usr/local/lib/python3.6/dist-packages (from requests<3.0.0,>=2.13.0->spacy) (2020.12.5)\n",
            "Requirement already satisfied: idna<3,>=2.5 in /usr/local/lib/python3.6/dist-packages (from requests<3.0.0,>=2.13.0->spacy) (2.10)\n",
            "Requirement already satisfied: urllib3!=1.25.0,!=1.25.1,<1.26,>=1.21.1 in /usr/local/lib/python3.6/dist-packages (from requests<3.0.0,>=2.13.0->spacy) (1.24.3)\n"
          ],
          "name": "stdout"
        }
      ]
    },
    {
      "cell_type": "code",
      "metadata": {
        "colab": {
          "base_uri": "https://localhost:8080/"
        },
        "id": "n1zRnUreV_Iq",
        "outputId": "eb7afea5-d02d-47ed-d594-ecdb8da81373"
      },
      "source": [
        "!python -m spacy download en"
      ],
      "execution_count": 89,
      "outputs": [
        {
          "output_type": "stream",
          "text": [
            "Collecting en_core_web_sm==2.2.5\n",
            "  Downloading https://github.com/explosion/spacy-models/releases/download/en_core_web_sm-2.2.5/en_core_web_sm-2.2.5.tar.gz (12.0 MB)\n",
            "\u001b[K     |████████████████████████████████| 12.0 MB 2.6 MB/s \n",
            "\u001b[?25hRequirement already satisfied: spacy>=2.2.2 in /usr/local/lib/python3.6/dist-packages (from en_core_web_sm==2.2.5) (2.2.4)\n",
            "Requirement already satisfied: srsly<1.1.0,>=1.0.2 in /usr/local/lib/python3.6/dist-packages (from spacy>=2.2.2->en_core_web_sm==2.2.5) (1.0.5)\n",
            "Requirement already satisfied: thinc==7.4.0 in /usr/local/lib/python3.6/dist-packages (from spacy>=2.2.2->en_core_web_sm==2.2.5) (7.4.0)\n",
            "Requirement already satisfied: setuptools in /usr/local/lib/python3.6/dist-packages (from spacy>=2.2.2->en_core_web_sm==2.2.5) (50.3.2)\n",
            "Requirement already satisfied: plac<1.2.0,>=0.9.6 in /usr/local/lib/python3.6/dist-packages (from spacy>=2.2.2->en_core_web_sm==2.2.5) (1.1.3)\n",
            "Requirement already satisfied: cymem<2.1.0,>=2.0.2 in /usr/local/lib/python3.6/dist-packages (from spacy>=2.2.2->en_core_web_sm==2.2.5) (2.0.5)\n",
            "Requirement already satisfied: preshed<3.1.0,>=3.0.2 in /usr/local/lib/python3.6/dist-packages (from spacy>=2.2.2->en_core_web_sm==2.2.5) (3.0.5)\n",
            "Requirement already satisfied: tqdm<5.0.0,>=4.38.0 in /usr/local/lib/python3.6/dist-packages (from spacy>=2.2.2->en_core_web_sm==2.2.5) (4.41.1)\n",
            "Requirement already satisfied: numpy>=1.15.0 in /usr/local/lib/python3.6/dist-packages (from spacy>=2.2.2->en_core_web_sm==2.2.5) (1.18.5)\n",
            "Requirement already satisfied: murmurhash<1.1.0,>=0.28.0 in /usr/local/lib/python3.6/dist-packages (from spacy>=2.2.2->en_core_web_sm==2.2.5) (1.0.5)\n",
            "Requirement already satisfied: wasabi<1.1.0,>=0.4.0 in /usr/local/lib/python3.6/dist-packages (from spacy>=2.2.2->en_core_web_sm==2.2.5) (0.8.0)\n",
            "Requirement already satisfied: catalogue<1.1.0,>=0.0.7 in /usr/local/lib/python3.6/dist-packages (from spacy>=2.2.2->en_core_web_sm==2.2.5) (1.0.0)\n",
            "Requirement already satisfied: requests<3.0.0,>=2.13.0 in /usr/local/lib/python3.6/dist-packages (from spacy>=2.2.2->en_core_web_sm==2.2.5) (2.23.0)\n",
            "Requirement already satisfied: blis<0.5.0,>=0.4.0 in /usr/local/lib/python3.6/dist-packages (from spacy>=2.2.2->en_core_web_sm==2.2.5) (0.4.1)\n",
            "Requirement already satisfied: importlib-metadata>=0.20 in /usr/local/lib/python3.6/dist-packages (from catalogue<1.1.0,>=0.0.7->spacy>=2.2.2->en_core_web_sm==2.2.5) (3.1.1)\n",
            "Requirement already satisfied: zipp>=0.5 in /usr/local/lib/python3.6/dist-packages (from importlib-metadata>=0.20->catalogue<1.1.0,>=0.0.7->spacy>=2.2.2->en_core_web_sm==2.2.5) (3.4.0)\n",
            "Requirement already satisfied: urllib3!=1.25.0,!=1.25.1,<1.26,>=1.21.1 in /usr/local/lib/python3.6/dist-packages (from requests<3.0.0,>=2.13.0->spacy>=2.2.2->en_core_web_sm==2.2.5) (1.24.3)\n",
            "Requirement already satisfied: chardet<4,>=3.0.2 in /usr/local/lib/python3.6/dist-packages (from requests<3.0.0,>=2.13.0->spacy>=2.2.2->en_core_web_sm==2.2.5) (3.0.4)\n",
            "Requirement already satisfied: idna<3,>=2.5 in /usr/local/lib/python3.6/dist-packages (from requests<3.0.0,>=2.13.0->spacy>=2.2.2->en_core_web_sm==2.2.5) (2.10)\n",
            "Requirement already satisfied: certifi>=2017.4.17 in /usr/local/lib/python3.6/dist-packages (from requests<3.0.0,>=2.13.0->spacy>=2.2.2->en_core_web_sm==2.2.5) (2020.12.5)\n",
            "\u001b[38;5;2m✔ Download and installation successful\u001b[0m\n",
            "You can now load the model via spacy.load('en_core_web_sm')\n",
            "\u001b[38;5;2m✔ Linking successful\u001b[0m\n",
            "/usr/local/lib/python3.6/dist-packages/en_core_web_sm -->\n",
            "/usr/local/lib/python3.6/dist-packages/spacy/data/en\n",
            "You can now load the model via spacy.load('en')\n"
          ],
          "name": "stdout"
        }
      ]
    },
    {
      "cell_type": "code",
      "metadata": {
        "colab": {
          "base_uri": "https://localhost:8080/"
        },
        "id": "xwTtpHCXV_Iq",
        "outputId": "62bd6f09-07ff-463b-e4cc-9b675b64bffc"
      },
      "source": [
        "!python -m pip install nltk"
      ],
      "execution_count": 90,
      "outputs": [
        {
          "output_type": "stream",
          "text": [
            "Requirement already satisfied: nltk in /usr/local/lib/python3.6/dist-packages (3.2.5)\n",
            "Requirement already satisfied: six in /usr/local/lib/python3.6/dist-packages (from nltk) (1.15.0)\n"
          ],
          "name": "stdout"
        }
      ]
    },
    {
      "cell_type": "code",
      "metadata": {
        "colab": {
          "base_uri": "https://localhost:8080/"
        },
        "id": "lHNHqk1XV_Ir",
        "outputId": "ec63d9fb-0cb4-4a6a-a5bb-a2e86ef1e67d"
      },
      "source": [
        "import nltk\n",
        "nltk.download(\"stopwords\")"
      ],
      "execution_count": 91,
      "outputs": [
        {
          "output_type": "stream",
          "text": [
            "[nltk_data] Downloading package stopwords to /root/nltk_data...\n",
            "[nltk_data]   Package stopwords is already up-to-date!\n"
          ],
          "name": "stdout"
        },
        {
          "output_type": "execute_result",
          "data": {
            "text/plain": [
              "True"
            ]
          },
          "metadata": {
            "tags": []
          },
          "execution_count": 91
        }
      ]
    },
    {
      "cell_type": "code",
      "metadata": {
        "id": "A3C_-sU2gBwS"
      },
      "source": [
        "# Import requiered packages\n",
        "import pandas as pd\n",
        "import numpy as np\n",
        "import matplotlib.pyplot as plt\n",
        "import nltk\n",
        "from sklearn.feature_extraction.text import CountVectorizer,TfidfVectorizer\n",
        "from sklearn.base import TransformerMixin\n",
        "from sklearn.pipeline import Pipeline\n",
        "from sklearn.linear_model import LogisticRegressionCV\n",
        "from sklearn.linear_model import LogisticRegression\n",
        "import spacy\n",
        "import string\n",
        "from tqdm import tqdm\n",
        "from sklearn.metrics import confusion_matrix, accuracy_score, precision_score, recall_score, f1_score\n",
        "import re\n",
        "from nltk.corpus import stopwords\n",
        "import numpy as np\n",
        "from collections import defaultdict\n",
        "from spacy.lang.en.stop_words import STOP_WORDS\n",
        "from spacy.lang.en import English\n",
        "from sklearn.ensemble import RandomForestClassifier\n",
        "from sklearn.model_selection import train_test_split\n",
        "import seaborn as sns\n",
        "import plotly.graph_objects as go\n",
        "\n",
        "\n",
        "%matplotlib inline"
      ],
      "execution_count": 92,
      "outputs": []
    },
    {
      "cell_type": "code",
      "metadata": {
        "id": "pUyAFQilV_Is"
      },
      "source": [
        "def evaluate(true, pred):\n",
        "    precision = precision_score(true, pred)\n",
        "    recall = recall_score(true, pred)\n",
        "    f1 = f1_score(true, pred)\n",
        "    print(f\"CONFUSION MATRIX:\\n{confusion_matrix(true, pred)}\")\n",
        "    print(f\"ACCURACY SCORE:\\n{accuracy_score(true, pred):.4f}\")\n",
        "    print(f\"CLASSIFICATION REPORT:\\n\\tPrecision: {precision:.4f}\\n\\tRecall: {recall:.4f}\\n\\tF1_Score: {f1:.4f}\")"
      ],
      "execution_count": 93,
      "outputs": []
    },
    {
      "cell_type": "markdown",
      "metadata": {
        "id": "Xvd_5JbuV_Is"
      },
      "source": [
        "## 📂 Data"
      ]
    },
    {
      "cell_type": "markdown",
      "metadata": {
        "id": "MBOevwHbV_It"
      },
      "source": [
        "Secondly, we have to import the data that were prodived for this specific project. The dataset \"training_processed\" has been created during our EDA&Processing."
      ]
    },
    {
      "cell_type": "code",
      "metadata": {
        "id": "2IkvhP6YgQIS"
      },
      "source": [
        "sample = pd.read_csv('https://raw.githubusercontent.com/PierreHuber/DMML_Apple/main/data/sample_submission.csv')\n",
        "test = pd.read_csv(\"https://raw.githubusercontent.com/PierreHuber/DMML_Apple/main/data/test_data.csv\")\n",
        "test = test.set_index(test.id).drop(columns=['id'])\n",
        "training_processed = pd.read_csv('https://raw.githubusercontent.com/PierreHuber/DMML_Apple/main/data/training_processed.csv')\n",
        "dfplot_sub = pd.read_csv(\"https://raw.githubusercontent.com/PierreHuber/DMML_Apple/main/Documents/progress_sub.csv\")\n"
      ],
      "execution_count": 94,
      "outputs": []
    },
    {
      "cell_type": "markdown",
      "metadata": {
        "id": "Pgijfug5V_Iu"
      },
      "source": [
        "## 📊 Summary of our results"
      ]
    },
    {
      "cell_type": "markdown",
      "metadata": {
        "id": "2PZa4HZcMVgt"
      },
      "source": [
        "The following table summaries the different models as well as the parameters we used. On the far right of the table, you can observe the accuracy scores returned after submission on the AiCrowd platform."
      ]
    },
    {
      "cell_type": "markdown",
      "metadata": {
        "id": "dnBrA4JPV_Iv"
      },
      "source": [
        "Sub | Classifier | Tokenizer + details | score\n",
        "--- | --- | --- | ---\n",
        "1 | LogReg(max_iter=1000) | TF-IDF default, Simple Tokenizer | 0.806\n",
        "2 | LogReg(max_iter=1000) | TF-IDF default, duplicates dropped |  0.7819\n",
        "3 | LogReg(max_iter=1000) | TF-IDF default, Tokenizer = SimplePreprocess |  0.7819\n",
        "4 | LogRegCV(cv=5, max_iter=1000) | Tokenizer = SimplePreprocess | 0.7224\n",
        "5 | LogRegCV(cv=5, max_iter=1000) | Tokenizer = SimplePreprocess, duplicates dropped | 0.7863\n",
        "6 | LogRegCV(cv=5, max_iter=1000) | TF-IDF default, Simple Tokenizer | 0.813\n",
        "7 | LogRegCV(cv=5, max_iter=1000) | TF-IDF default, Simple Tokenizer, Resampled | 0.800\n",
        "8 | RandomForestClassifier | TF-IDF default, Simple Tokenizer | 0.799\n",
        "9 | RandomForestClassifier | TF-IDF default, Simple Tokenizer, Resampled |  0.800\n",
        "10 | LogRegCV(cv=5, max_iter=1000) | TF-IDF default, merge keywords-tokens | 0.809\n",
        "11 | LogReg(max_iter=1000)| TF-IDF default, merge keywords-tokens | 0.808\n",
        "12 | LogRegCV(cv=5, max_iter=1000) | TF-IDF default, Improved Tokenizer, merge keywords-tokens | 0.813\n",
        "13 | LogReg(max_iter=10000)| TF-IDF default, merge keywords-tokens, hyperparams tuning: C=1.206792| 0.801\n",
        "14 | LogReg(max_iter=10000)| TF-IDF default, merge keywords-tokens, hyperparams tuning: C=1.7575 | 0.8091\n",
        "15 | LogReg(max_iter=10000)| TF-IDF default, hyperparams tuning: C=1.7575 | 0.8126\n",
        "16 | LogReg(max_iter=1000)| TF-IDF default, hyperparams tuning: C=1.7575 | 0.8126\n",
        "17 | LogReg(max_iter=1000)| TF-IDF params tunning (ngram_range=(1, 3), min_df= 1, max_df=1.0)), C=1.2 | 0.8091\n",
        "18 | LogReg(max_iter=1000)| TF-IDF params tunning (ngram_range=(1, 3), min_df= 1, max_df=4.0)), C=1.2, merge keywords-tokens | 0.8038\n",
        "19 | KNN | K = 5 |  0.6193\n"
      ]
    },
    {
      "cell_type": "markdown",
      "metadata": {
        "id": "hbzXC_SNV_Iv"
      },
      "source": [
        "Below, you can observe a plot illustrating the accuracy of our different Submissions for the project. As you can see, it has been a rollercoaster as we tried different approaches, some being more successful than others.\n",
        "Plot inspired by https://plotly.com/python/creating-and-updating-figures/"
      ]
    },
    {
      "cell_type": "code",
      "metadata": {
        "colab": {
          "base_uri": "https://localhost:8080/",
          "height": 542
        },
        "id": "FKK8OZ9VV_Iv",
        "outputId": "c2194e0a-9e17-40b0-bd2f-1eaca14b382b"
      },
      "source": [
        "plotsub = go.Figure(data=go.Scatter(x=dfplot_sub.submission_number,\n",
        "                                y=dfplot_sub.accuracy_score,\n",
        "                                mode='lines')) \n",
        "plotsub.update_layout(title='Accuracy Score fluctuation during the challenge',\n",
        "                  xaxis_title=\"# of Submission\", \n",
        "                  yaxis_title=\"Accuracy score\",\n",
        "                  title_x=0.5)\n",
        "plotsub.show()"
      ],
      "execution_count": null,
      "outputs": [
        {
          "output_type": "display_data",
          "data": {
            "text/html": [
              "<html>\n",
              "<head><meta charset=\"utf-8\" /></head>\n",
              "<body>\n",
              "    <div>\n",
              "            <script src=\"https://cdnjs.cloudflare.com/ajax/libs/mathjax/2.7.5/MathJax.js?config=TeX-AMS-MML_SVG\"></script><script type=\"text/javascript\">if (window.MathJax) {MathJax.Hub.Config({SVG: {font: \"STIX-Web\"}});}</script>\n",
              "                <script type=\"text/javascript\">window.PlotlyConfig = {MathJaxConfig: 'local'};</script>\n",
              "        <script src=\"https://cdn.plot.ly/plotly-latest.min.js\"></script>    \n",
              "            <div id=\"2d19482c-c8b3-4251-a2e5-9e7a97af2e1c\" class=\"plotly-graph-div\" style=\"height:525px; width:100%;\"></div>\n",
              "            <script type=\"text/javascript\">\n",
              "                \n",
              "                    window.PLOTLYENV=window.PLOTLYENV || {};\n",
              "                    \n",
              "                if (document.getElementById(\"2d19482c-c8b3-4251-a2e5-9e7a97af2e1c\")) {\n",
              "                    Plotly.newPlot(\n",
              "                        '2d19482c-c8b3-4251-a2e5-9e7a97af2e1c',\n",
              "                        [{\"mode\": \"lines\", \"type\": \"scatter\", \"x\": [1, 2, 3, 4, 5, 6, 7, 8, 9, 10, 11, 12, 13, 14, 15, 16, 17, 18, 19], \"y\": [0.8059999999999999, 0.7819, 0.7819, 0.7224, 0.7863, 0.813, 0.8, 0.799, 0.8, 0.809, 0.8079999999999999, 0.813, 0.8099, 0.8091, 0.8126, 0.8126, 0.807, 0.809, 0.6193]}],\n",
              "                        {\"template\": {\"data\": {\"bar\": [{\"error_x\": {\"color\": \"#2a3f5f\"}, \"error_y\": {\"color\": \"#2a3f5f\"}, \"marker\": {\"line\": {\"color\": \"#E5ECF6\", \"width\": 0.5}}, \"type\": \"bar\"}], \"barpolar\": [{\"marker\": {\"line\": {\"color\": \"#E5ECF6\", \"width\": 0.5}}, \"type\": \"barpolar\"}], \"carpet\": [{\"aaxis\": {\"endlinecolor\": \"#2a3f5f\", \"gridcolor\": \"white\", \"linecolor\": \"white\", \"minorgridcolor\": \"white\", \"startlinecolor\": \"#2a3f5f\"}, \"baxis\": {\"endlinecolor\": \"#2a3f5f\", \"gridcolor\": \"white\", \"linecolor\": \"white\", \"minorgridcolor\": \"white\", \"startlinecolor\": \"#2a3f5f\"}, \"type\": \"carpet\"}], \"choropleth\": [{\"colorbar\": {\"outlinewidth\": 0, \"ticks\": \"\"}, \"type\": \"choropleth\"}], \"contour\": [{\"colorbar\": {\"outlinewidth\": 0, \"ticks\": \"\"}, \"colorscale\": [[0.0, \"#0d0887\"], [0.1111111111111111, \"#46039f\"], [0.2222222222222222, \"#7201a8\"], [0.3333333333333333, \"#9c179e\"], [0.4444444444444444, \"#bd3786\"], [0.5555555555555556, \"#d8576b\"], [0.6666666666666666, \"#ed7953\"], [0.7777777777777778, \"#fb9f3a\"], [0.8888888888888888, \"#fdca26\"], [1.0, \"#f0f921\"]], \"type\": \"contour\"}], \"contourcarpet\": [{\"colorbar\": {\"outlinewidth\": 0, \"ticks\": \"\"}, \"type\": \"contourcarpet\"}], \"heatmap\": [{\"colorbar\": {\"outlinewidth\": 0, \"ticks\": \"\"}, \"colorscale\": [[0.0, \"#0d0887\"], [0.1111111111111111, \"#46039f\"], [0.2222222222222222, \"#7201a8\"], [0.3333333333333333, \"#9c179e\"], [0.4444444444444444, \"#bd3786\"], [0.5555555555555556, \"#d8576b\"], [0.6666666666666666, \"#ed7953\"], [0.7777777777777778, \"#fb9f3a\"], [0.8888888888888888, \"#fdca26\"], [1.0, \"#f0f921\"]], \"type\": \"heatmap\"}], \"heatmapgl\": [{\"colorbar\": {\"outlinewidth\": 0, \"ticks\": \"\"}, \"colorscale\": [[0.0, \"#0d0887\"], [0.1111111111111111, \"#46039f\"], [0.2222222222222222, \"#7201a8\"], [0.3333333333333333, \"#9c179e\"], [0.4444444444444444, \"#bd3786\"], [0.5555555555555556, \"#d8576b\"], [0.6666666666666666, \"#ed7953\"], [0.7777777777777778, \"#fb9f3a\"], [0.8888888888888888, \"#fdca26\"], [1.0, \"#f0f921\"]], \"type\": \"heatmapgl\"}], \"histogram\": [{\"marker\": {\"colorbar\": {\"outlinewidth\": 0, \"ticks\": \"\"}}, \"type\": \"histogram\"}], \"histogram2d\": [{\"colorbar\": {\"outlinewidth\": 0, \"ticks\": \"\"}, \"colorscale\": [[0.0, \"#0d0887\"], [0.1111111111111111, \"#46039f\"], [0.2222222222222222, \"#7201a8\"], [0.3333333333333333, \"#9c179e\"], [0.4444444444444444, \"#bd3786\"], [0.5555555555555556, \"#d8576b\"], [0.6666666666666666, \"#ed7953\"], [0.7777777777777778, \"#fb9f3a\"], [0.8888888888888888, \"#fdca26\"], [1.0, \"#f0f921\"]], \"type\": \"histogram2d\"}], \"histogram2dcontour\": [{\"colorbar\": {\"outlinewidth\": 0, \"ticks\": \"\"}, \"colorscale\": [[0.0, \"#0d0887\"], [0.1111111111111111, \"#46039f\"], [0.2222222222222222, \"#7201a8\"], [0.3333333333333333, \"#9c179e\"], [0.4444444444444444, \"#bd3786\"], [0.5555555555555556, \"#d8576b\"], [0.6666666666666666, \"#ed7953\"], [0.7777777777777778, \"#fb9f3a\"], [0.8888888888888888, \"#fdca26\"], [1.0, \"#f0f921\"]], \"type\": \"histogram2dcontour\"}], \"mesh3d\": [{\"colorbar\": {\"outlinewidth\": 0, \"ticks\": \"\"}, \"type\": \"mesh3d\"}], \"parcoords\": [{\"line\": {\"colorbar\": {\"outlinewidth\": 0, \"ticks\": \"\"}}, \"type\": \"parcoords\"}], \"pie\": [{\"automargin\": true, \"type\": \"pie\"}], \"scatter\": [{\"marker\": {\"colorbar\": {\"outlinewidth\": 0, \"ticks\": \"\"}}, \"type\": \"scatter\"}], \"scatter3d\": [{\"line\": {\"colorbar\": {\"outlinewidth\": 0, \"ticks\": \"\"}}, \"marker\": {\"colorbar\": {\"outlinewidth\": 0, \"ticks\": \"\"}}, \"type\": \"scatter3d\"}], \"scattercarpet\": [{\"marker\": {\"colorbar\": {\"outlinewidth\": 0, \"ticks\": \"\"}}, \"type\": \"scattercarpet\"}], \"scattergeo\": [{\"marker\": {\"colorbar\": {\"outlinewidth\": 0, \"ticks\": \"\"}}, \"type\": \"scattergeo\"}], \"scattergl\": [{\"marker\": {\"colorbar\": {\"outlinewidth\": 0, \"ticks\": \"\"}}, \"type\": \"scattergl\"}], \"scattermapbox\": [{\"marker\": {\"colorbar\": {\"outlinewidth\": 0, \"ticks\": \"\"}}, \"type\": \"scattermapbox\"}], \"scatterpolar\": [{\"marker\": {\"colorbar\": {\"outlinewidth\": 0, \"ticks\": \"\"}}, \"type\": \"scatterpolar\"}], \"scatterpolargl\": [{\"marker\": {\"colorbar\": {\"outlinewidth\": 0, \"ticks\": \"\"}}, \"type\": \"scatterpolargl\"}], \"scatterternary\": [{\"marker\": {\"colorbar\": {\"outlinewidth\": 0, \"ticks\": \"\"}}, \"type\": \"scatterternary\"}], \"surface\": [{\"colorbar\": {\"outlinewidth\": 0, \"ticks\": \"\"}, \"colorscale\": [[0.0, \"#0d0887\"], [0.1111111111111111, \"#46039f\"], [0.2222222222222222, \"#7201a8\"], [0.3333333333333333, \"#9c179e\"], [0.4444444444444444, \"#bd3786\"], [0.5555555555555556, \"#d8576b\"], [0.6666666666666666, \"#ed7953\"], [0.7777777777777778, \"#fb9f3a\"], [0.8888888888888888, \"#fdca26\"], [1.0, \"#f0f921\"]], \"type\": \"surface\"}], \"table\": [{\"cells\": {\"fill\": {\"color\": \"#EBF0F8\"}, \"line\": {\"color\": \"white\"}}, \"header\": {\"fill\": {\"color\": \"#C8D4E3\"}, \"line\": {\"color\": \"white\"}}, \"type\": \"table\"}]}, \"layout\": {\"annotationdefaults\": {\"arrowcolor\": \"#2a3f5f\", \"arrowhead\": 0, \"arrowwidth\": 1}, \"coloraxis\": {\"colorbar\": {\"outlinewidth\": 0, \"ticks\": \"\"}}, \"colorscale\": {\"diverging\": [[0, \"#8e0152\"], [0.1, \"#c51b7d\"], [0.2, \"#de77ae\"], [0.3, \"#f1b6da\"], [0.4, \"#fde0ef\"], [0.5, \"#f7f7f7\"], [0.6, \"#e6f5d0\"], [0.7, \"#b8e186\"], [0.8, \"#7fbc41\"], [0.9, \"#4d9221\"], [1, \"#276419\"]], \"sequential\": [[0.0, \"#0d0887\"], [0.1111111111111111, \"#46039f\"], [0.2222222222222222, \"#7201a8\"], [0.3333333333333333, \"#9c179e\"], [0.4444444444444444, \"#bd3786\"], [0.5555555555555556, \"#d8576b\"], [0.6666666666666666, \"#ed7953\"], [0.7777777777777778, \"#fb9f3a\"], [0.8888888888888888, \"#fdca26\"], [1.0, \"#f0f921\"]], \"sequentialminus\": [[0.0, \"#0d0887\"], [0.1111111111111111, \"#46039f\"], [0.2222222222222222, \"#7201a8\"], [0.3333333333333333, \"#9c179e\"], [0.4444444444444444, \"#bd3786\"], [0.5555555555555556, \"#d8576b\"], [0.6666666666666666, \"#ed7953\"], [0.7777777777777778, \"#fb9f3a\"], [0.8888888888888888, \"#fdca26\"], [1.0, \"#f0f921\"]]}, \"colorway\": [\"#636efa\", \"#EF553B\", \"#00cc96\", \"#ab63fa\", \"#FFA15A\", \"#19d3f3\", \"#FF6692\", \"#B6E880\", \"#FF97FF\", \"#FECB52\"], \"font\": {\"color\": \"#2a3f5f\"}, \"geo\": {\"bgcolor\": \"white\", \"lakecolor\": \"white\", \"landcolor\": \"#E5ECF6\", \"showlakes\": true, \"showland\": true, \"subunitcolor\": \"white\"}, \"hoverlabel\": {\"align\": \"left\"}, \"hovermode\": \"closest\", \"mapbox\": {\"style\": \"light\"}, \"paper_bgcolor\": \"white\", \"plot_bgcolor\": \"#E5ECF6\", \"polar\": {\"angularaxis\": {\"gridcolor\": \"white\", \"linecolor\": \"white\", \"ticks\": \"\"}, \"bgcolor\": \"#E5ECF6\", \"radialaxis\": {\"gridcolor\": \"white\", \"linecolor\": \"white\", \"ticks\": \"\"}}, \"scene\": {\"xaxis\": {\"backgroundcolor\": \"#E5ECF6\", \"gridcolor\": \"white\", \"gridwidth\": 2, \"linecolor\": \"white\", \"showbackground\": true, \"ticks\": \"\", \"zerolinecolor\": \"white\"}, \"yaxis\": {\"backgroundcolor\": \"#E5ECF6\", \"gridcolor\": \"white\", \"gridwidth\": 2, \"linecolor\": \"white\", \"showbackground\": true, \"ticks\": \"\", \"zerolinecolor\": \"white\"}, \"zaxis\": {\"backgroundcolor\": \"#E5ECF6\", \"gridcolor\": \"white\", \"gridwidth\": 2, \"linecolor\": \"white\", \"showbackground\": true, \"ticks\": \"\", \"zerolinecolor\": \"white\"}}, \"shapedefaults\": {\"line\": {\"color\": \"#2a3f5f\"}}, \"ternary\": {\"aaxis\": {\"gridcolor\": \"white\", \"linecolor\": \"white\", \"ticks\": \"\"}, \"baxis\": {\"gridcolor\": \"white\", \"linecolor\": \"white\", \"ticks\": \"\"}, \"bgcolor\": \"#E5ECF6\", \"caxis\": {\"gridcolor\": \"white\", \"linecolor\": \"white\", \"ticks\": \"\"}}, \"title\": {\"x\": 0.05}, \"xaxis\": {\"automargin\": true, \"gridcolor\": \"white\", \"linecolor\": \"white\", \"ticks\": \"\", \"title\": {\"standoff\": 15}, \"zerolinecolor\": \"white\", \"zerolinewidth\": 2}, \"yaxis\": {\"automargin\": true, \"gridcolor\": \"white\", \"linecolor\": \"white\", \"ticks\": \"\", \"title\": {\"standoff\": 15}, \"zerolinecolor\": \"white\", \"zerolinewidth\": 2}}}, \"title\": {\"text\": \"Accuracy Score fluctuation during the challenge\", \"x\": 0.5}, \"xaxis\": {\"title\": {\"text\": \"# of Submission\"}}, \"yaxis\": {\"title\": {\"text\": \"Accuracy score\"}}},\n",
              "                        {\"responsive\": true}\n",
              "                    ).then(function(){\n",
              "                            \n",
              "var gd = document.getElementById('2d19482c-c8b3-4251-a2e5-9e7a97af2e1c');\n",
              "var x = new MutationObserver(function (mutations, observer) {{\n",
              "        var display = window.getComputedStyle(gd).display;\n",
              "        if (!display || display === 'none') {{\n",
              "            console.log([gd, 'removed!']);\n",
              "            Plotly.purge(gd);\n",
              "            observer.disconnect();\n",
              "        }}\n",
              "}});\n",
              "\n",
              "// Listen for the removal of the full notebook cells\n",
              "var notebookContainer = gd.closest('#notebook-container');\n",
              "if (notebookContainer) {{\n",
              "    x.observe(notebookContainer, {childList: true});\n",
              "}}\n",
              "\n",
              "// Listen for the clearing of the current output cell\n",
              "var outputEl = gd.closest('.output');\n",
              "if (outputEl) {{\n",
              "    x.observe(outputEl, {childList: true});\n",
              "}}\n",
              "\n",
              "                        })\n",
              "                };\n",
              "                \n",
              "            </script>\n",
              "        </div>\n",
              "</body>\n",
              "</html>"
            ]
          },
          "metadata": {
            "tags": []
          }
        }
      ]
    },
    {
      "cell_type": "markdown",
      "metadata": {
        "id": "dV9Oz4gNIgIs"
      },
      "source": [
        "##  Tokenizer"
      ]
    },
    {
      "cell_type": "code",
      "metadata": {
        "id": "kz-v3Nt8IstP"
      },
      "source": [
        "def spacy_tokenizer(sentence):\n",
        "    mytokens = sp(sentence)\n",
        "    mytokens = [ word.lemma_.lower().strip() if word.lemma_ != \"-PRON-\" else word.lower_ for word in mytokens ]\n",
        "    mytokens = [ word for word in mytokens if word not in stop_words and word not in punctuations ]\n",
        "    return mytokens"
      ],
      "execution_count": 95,
      "outputs": []
    },
    {
      "cell_type": "code",
      "metadata": {
        "id": "90AW251UV_Iw"
      },
      "source": [
        "sp = spacy.load('en')\n",
        "punctuations = string.punctuation\n",
        "stop_words = spacy.lang.en.stop_words.STOP_WORDS"
      ],
      "execution_count": 96,
      "outputs": []
    },
    {
      "cell_type": "markdown",
      "metadata": {
        "id": "hyk108uDuJ2W"
      },
      "source": [
        "## 💻 Models"
      ]
    },
    {
      "cell_type": "code",
      "metadata": {
        "colab": {
          "base_uri": "https://localhost:8080/",
          "height": 1000
        },
        "id": "SM5Wr5H9wWN3",
        "outputId": "46839c2b-e732-437f-9c45-4d4da53e67ef"
      },
      "source": [
        "training_processed"
      ],
      "execution_count": 97,
      "outputs": [
        {
          "output_type": "execute_result",
          "data": {
            "text/html": [
              "<div>\n",
              "<style scoped>\n",
              "    .dataframe tbody tr th:only-of-type {\n",
              "        vertical-align: middle;\n",
              "    }\n",
              "\n",
              "    .dataframe tbody tr th {\n",
              "        vertical-align: top;\n",
              "    }\n",
              "\n",
              "    .dataframe thead th {\n",
              "        text-align: right;\n",
              "    }\n",
              "</style>\n",
              "<table border=\"1\" class=\"dataframe\">\n",
              "  <thead>\n",
              "    <tr style=\"text-align: right;\">\n",
              "      <th></th>\n",
              "      <th>keyword</th>\n",
              "      <th>location</th>\n",
              "      <th>text</th>\n",
              "      <th>target</th>\n",
              "      <th>tokens</th>\n",
              "      <th>list_tokens</th>\n",
              "      <th>tokens2</th>\n",
              "      <th>merged</th>\n",
              "      <th>merged2</th>\n",
              "    </tr>\n",
              "  </thead>\n",
              "  <tbody>\n",
              "    <tr>\n",
              "      <th>0</th>\n",
              "      <td>destroyed</td>\n",
              "      <td>USA</td>\n",
              "      <td>Black Eye 9: A space battle occurred at Star O...</td>\n",
              "      <td>0</td>\n",
              "      <td>black eye 9 space battle occur star o784 invol...</td>\n",
              "      <td>['black', 'eye', 'space', 'battle', 'occur', '...</td>\n",
              "      <td>black eye space battle occur star o784 involve...</td>\n",
              "      <td>destroyed black eye 9 space battle occur star ...</td>\n",
              "      <td>destroyed black eye space battle occur star o7...</td>\n",
              "    </tr>\n",
              "    <tr>\n",
              "      <th>1</th>\n",
              "      <td>bioterror</td>\n",
              "      <td>NaN</td>\n",
              "      <td>#world FedEx no longer to transport bioterror ...</td>\n",
              "      <td>0</td>\n",
              "      <td>world fedex longer transport bioterror germ wa...</td>\n",
              "      <td>['world', 'fedex', 'longer', 'transport', 'bio...</td>\n",
              "      <td>world fedex longer transport bioterror germ wa...</td>\n",
              "      <td>bioterror world fedex longer transport bioterr...</td>\n",
              "      <td>bioterror world fedex longer transport bioterr...</td>\n",
              "    </tr>\n",
              "    <tr>\n",
              "      <th>2</th>\n",
              "      <td>windstorm</td>\n",
              "      <td>Palm Beach County, FL</td>\n",
              "      <td>Reality Training: Train falls off elevated tra...</td>\n",
              "      <td>1</td>\n",
              "      <td>reality training train fall elevated track win...</td>\n",
              "      <td>['reality', 'training', 'train', 'fall', 'elev...</td>\n",
              "      <td>reality training train fall elevated track win...</td>\n",
              "      <td>windstorm reality training train fall elevated...</td>\n",
              "      <td>windstorm reality training train fall elevated...</td>\n",
              "    </tr>\n",
              "    <tr>\n",
              "      <th>3</th>\n",
              "      <td>hazardous</td>\n",
              "      <td>USA</td>\n",
              "      <td>#Taiwan Grace: expect that large rocks trees m...</td>\n",
              "      <td>1</td>\n",
              "      <td>taiwan grace expect large rock tree mud unstab...</td>\n",
              "      <td>['taiwan', 'grace', 'expect', 'large', 'rock',...</td>\n",
              "      <td>taiwan grace expect large rock tree mud unstab...</td>\n",
              "      <td>hazardous taiwan grace expect large rock tree ...</td>\n",
              "      <td>hazardous taiwan grace expect large rock tree ...</td>\n",
              "    </tr>\n",
              "    <tr>\n",
              "      <th>4</th>\n",
              "      <td>hostage</td>\n",
              "      <td>Australia</td>\n",
              "      <td>New ISIS Video: ISIS Threatens to Behead Croat...</td>\n",
              "      <td>1</td>\n",
              "      <td>new isis video isis threaten behead croatian h...</td>\n",
              "      <td>['new', 'isis', 'video', 'isis', 'threaten', '...</td>\n",
              "      <td>new isis video isis threaten behead croatian h...</td>\n",
              "      <td>hostage new isis video isis threaten behead cr...</td>\n",
              "      <td>hostage new isis video isis threaten behead cr...</td>\n",
              "    </tr>\n",
              "    <tr>\n",
              "      <th>...</th>\n",
              "      <td>...</td>\n",
              "      <td>...</td>\n",
              "      <td>...</td>\n",
              "      <td>...</td>\n",
              "      <td>...</td>\n",
              "      <td>...</td>\n",
              "      <td>...</td>\n",
              "      <td>...</td>\n",
              "      <td>...</td>\n",
              "    </tr>\n",
              "    <tr>\n",
              "      <th>6466</th>\n",
              "      <td>earthquake</td>\n",
              "      <td>ARGENTINA</td>\n",
              "      <td>#Earthquake #Sismo M 1.9 - 15km E of Anchorage...</td>\n",
              "      <td>1</td>\n",
              "      <td>earthquake sismo m 1.9 15 km e anchorage alask...</td>\n",
              "      <td>['earthquake', 'sismo', 'm', '1.9', 'km', 'e',...</td>\n",
              "      <td>earthquake sismo m 1.9 km e anchorage alaska t...</td>\n",
              "      <td>earthquake earthquake sismo m 1.9 15 km e anch...</td>\n",
              "      <td>earthquake earthquake sismo m 1.9 km e anchora...</td>\n",
              "    </tr>\n",
              "    <tr>\n",
              "      <th>6467</th>\n",
              "      <td>derail</td>\n",
              "      <td>NaN</td>\n",
              "      <td>@EmiiliexIrwin Totally agree.She is 23 and kno...</td>\n",
              "      <td>0</td>\n",
              "      <td>@emiiliexirwin totally agree 23 know birth con...</td>\n",
              "      <td>['totally', 'agree', 'know', 'birth', 'control...</td>\n",
              "      <td>totally agree know birth control true want der...</td>\n",
              "      <td>derail @emiiliexirwin totally agree 23 know bi...</td>\n",
              "      <td>derail totally agree know birth control true w...</td>\n",
              "    </tr>\n",
              "    <tr>\n",
              "      <th>6468</th>\n",
              "      <td>trapped</td>\n",
              "      <td>NaN</td>\n",
              "      <td>Hollywood Movie About Trapped Miners Released ...</td>\n",
              "      <td>1</td>\n",
              "      <td>hollywood movie trapped miners release chile 3...</td>\n",
              "      <td>['hollywood', 'movie', 'trapped', 'miners', 'r...</td>\n",
              "      <td>hollywood movie trapped miners release chile h...</td>\n",
              "      <td>trapped hollywood movie trapped miners release...</td>\n",
              "      <td>trapped hollywood movie trapped miners release...</td>\n",
              "    </tr>\n",
              "    <tr>\n",
              "      <th>6469</th>\n",
              "      <td>weapons</td>\n",
              "      <td>Beirut/Toronto</td>\n",
              "      <td>Friendly reminder that the only country to eve...</td>\n",
              "      <td>1</td>\n",
              "      <td>friendly reminder country use nuclear weapon u...</td>\n",
              "      <td>['friendly', 'reminder', 'country', 'use', 'nu...</td>\n",
              "      <td>friendly reminder country use nuclear weapon u...</td>\n",
              "      <td>weapons friendly reminder country use nuclear ...</td>\n",
              "      <td>weapons friendly reminder country use nuclear ...</td>\n",
              "    </tr>\n",
              "    <tr>\n",
              "      <th>6470</th>\n",
              "      <td>buildings%20on%20fire</td>\n",
              "      <td>NaN</td>\n",
              "      <td>Buildings are on fire and they have time for a...</td>\n",
              "      <td>1</td>\n",
              "      <td>building fire time business meeting thestrain</td>\n",
              "      <td>['building', 'fire', 'time', 'business', 'meet...</td>\n",
              "      <td>building fire time business meeting thestrain</td>\n",
              "      <td>buildings%20on%20fire building fire time busin...</td>\n",
              "      <td>buildings%20on%20fire building fire time busin...</td>\n",
              "    </tr>\n",
              "  </tbody>\n",
              "</table>\n",
              "<p>6471 rows × 9 columns</p>\n",
              "</div>"
            ],
            "text/plain": [
              "                    keyword  ...                                            merged2\n",
              "0                 destroyed  ...  destroyed black eye space battle occur star o7...\n",
              "1                 bioterror  ...  bioterror world fedex longer transport bioterr...\n",
              "2                 windstorm  ...  windstorm reality training train fall elevated...\n",
              "3                 hazardous  ...  hazardous taiwan grace expect large rock tree ...\n",
              "4                   hostage  ...  hostage new isis video isis threaten behead cr...\n",
              "...                     ...  ...                                                ...\n",
              "6466             earthquake  ...  earthquake earthquake sismo m 1.9 km e anchora...\n",
              "6467                 derail  ...  derail totally agree know birth control true w...\n",
              "6468                trapped  ...  trapped hollywood movie trapped miners release...\n",
              "6469                weapons  ...  weapons friendly reminder country use nuclear ...\n",
              "6470  buildings%20on%20fire  ...  buildings%20on%20fire building fire time busin...\n",
              "\n",
              "[6471 rows x 9 columns]"
            ]
          },
          "metadata": {
            "tags": []
          },
          "execution_count": 97
        }
      ]
    },
    {
      "cell_type": "code",
      "metadata": {
        "id": "8LvcRlhwV_Ix"
      },
      "source": [
        "X_train_split, X_test_split, y_train_split, y_test_split = train_test_split(training_processed.tokens, training_processed.target, test_size=0.2, random_state=72)"
      ],
      "execution_count": 98,
      "outputs": []
    },
    {
      "cell_type": "code",
      "metadata": {
        "id": "GTrsJn0ooppj"
      },
      "source": [
        "def pipe_sub(X_train, y_train, X_test, vectorizer, classifier):\n",
        "    pipe = Pipeline([('vectorizer', vectorizer),\n",
        "                 ('classifier', classifier)])\n",
        "    pipe.fit(X_train, y_train)\n",
        "    print('Train accuracy: ', round(pipe.score(X_train, y_train),2))\n",
        "    y_pred=pipe.predict(X_test)\n",
        "    return y_pred"
      ],
      "execution_count": 99,
      "outputs": []
    },
    {
      "cell_type": "code",
      "metadata": {
        "id": "voxfoENtsR4j"
      },
      "source": [
        "def y_pred_sub(y_pred, csv):\n",
        "  sample_i = pd.read_csv('https://raw.githubusercontent.com/PierreHuber/DMML_Apple/main/data/sample_submission.csv')\n",
        "  sample_i.target=y_pred\n",
        "  return sample_i.to_csv(csv, index = False)"
      ],
      "execution_count": 100,
      "outputs": []
    },
    {
      "cell_type": "markdown",
      "metadata": {
        "id": "rF-Doi5ZMVhv"
      },
      "source": [
        "### Submission 1: LogisticRegression, Simple Tokenizer, TF-IDF default"
      ]
    },
    {
      "cell_type": "code",
      "metadata": {
        "id": "UA1_cyl3MVht"
      },
      "source": [
        "X_train = training_processed.tokens\n",
        "y_train = training_processed.target\n",
        "X_test = test.text\n",
        "vectorizer=TfidfVectorizer(tokenizer=spacy_tokenizer)\n",
        "classifier=LogisticRegression(solver='lbfgs', max_iter=1000)"
      ],
      "execution_count": 101,
      "outputs": []
    },
    {
      "cell_type": "code",
      "metadata": {
        "colab": {
          "base_uri": "https://localhost:8080/"
        },
        "id": "IHxS5XskpZCS",
        "outputId": "5d8a2308-683a-4052-f7ab-afaf7eba4ccc"
      },
      "source": [
        "y_pred=pipe_sub(X_train, y_train, X_test, vectorizer, classifier)"
      ],
      "execution_count": 102,
      "outputs": [
        {
          "output_type": "stream",
          "text": [
            "Train accuracy:  0.89\n"
          ],
          "name": "stdout"
        }
      ]
    },
    {
      "cell_type": "code",
      "metadata": {
        "id": "8KMuhK46sxOi"
      },
      "source": [
        "y_pred_sub(y_pred, r'sub1.csv')"
      ],
      "execution_count": 103,
      "outputs": []
    },
    {
      "cell_type": "code",
      "metadata": {
        "id": "IEjrts1DV_Iz"
      },
      "source": [
        "#split: We split the dataset in 80-20% in order to test our model\n",
        "X_train = X_train_split\n",
        "y_train = y_train_split\n",
        "X_test = X_test_split\n",
        "vectorizer=TfidfVectorizer(tokenizer=spacy_tokenizer)\n",
        "classifier=LogisticRegression(solver='lbfgs', max_iter=1000)\n",
        "pipe = Pipeline([('vectorizer', vectorizer),\n",
        "                 ('classifier', classifier)])\n",
        "pipe.fit(X_train, y_train)\n",
        "y_pred_test=pipe.predict(X_test)\n"
      ],
      "execution_count": 104,
      "outputs": []
    },
    {
      "cell_type": "code",
      "metadata": {
        "id": "s6TF_D5NV_Iz",
        "colab": {
          "base_uri": "https://localhost:8080/"
        },
        "outputId": "d619d295-2338-41c8-975c-f664a61bba96"
      },
      "source": [
        "round(accuracy_score(y_test_split, y_pred_test),3)"
      ],
      "execution_count": 105,
      "outputs": [
        {
          "output_type": "execute_result",
          "data": {
            "text/plain": [
              "0.805"
            ]
          },
          "metadata": {
            "tags": []
          },
          "execution_count": 105
        }
      ]
    },
    {
      "cell_type": "markdown",
      "metadata": {
        "id": "91OaAGcIMVhz"
      },
      "source": [
        "### Submission 2: LogisticRegression, TF-IDF default, duplicates dropped"
      ]
    },
    {
      "cell_type": "code",
      "metadata": {
        "id": "iKKez36CuanY",
        "colab": {
          "base_uri": "https://localhost:8080/"
        },
        "outputId": "b4a071bf-0949-4380-b6cf-22a9847a5d84"
      },
      "source": [
        "X_train = training_processed.text\n",
        "y_train = training_processed.target\n",
        "X_test = test.text\n",
        "vectorizer=TfidfVectorizer(tokenizer=spacy_tokenizer)\n",
        "classifier=LogisticRegression(solver='lbfgs', max_iter = 1000)\n",
        "pipe.fit(X_train, y_train)"
      ],
      "execution_count": 106,
      "outputs": [
        {
          "output_type": "execute_result",
          "data": {
            "text/plain": [
              "Pipeline(memory=None,\n",
              "         steps=[('vectorizer',\n",
              "                 TfidfVectorizer(analyzer='word', binary=False,\n",
              "                                 decode_error='strict',\n",
              "                                 dtype=<class 'numpy.float64'>,\n",
              "                                 encoding='utf-8', input='content',\n",
              "                                 lowercase=True, max_df=1.0, max_features=None,\n",
              "                                 min_df=1, ngram_range=(1, 1), norm='l2',\n",
              "                                 preprocessor=None, smooth_idf=True,\n",
              "                                 stop_words=None, strip_accents=None,\n",
              "                                 sublinear_tf=False,\n",
              "                                 token_patt...\n",
              "                                 tokenizer=<function spacy_tokenizer at 0x7f62fb3426a8>,\n",
              "                                 use_idf=True, vocabulary=None)),\n",
              "                ('classifier',\n",
              "                 LogisticRegression(C=1.0, class_weight=None, dual=False,\n",
              "                                    fit_intercept=True, intercept_scaling=1,\n",
              "                                    l1_ratio=None, max_iter=1000,\n",
              "                                    multi_class='auto', n_jobs=None,\n",
              "                                    penalty='l2', random_state=None,\n",
              "                                    solver='lbfgs', tol=0.0001, verbose=0,\n",
              "                                    warm_start=False))],\n",
              "         verbose=False)"
            ]
          },
          "metadata": {
            "tags": []
          },
          "execution_count": 106
        }
      ]
    },
    {
      "cell_type": "code",
      "metadata": {
        "id": "dXR-3oa7V_I0"
      },
      "source": [
        "y_pred_test=pipe.predict(X_test)"
      ],
      "execution_count": 107,
      "outputs": []
    },
    {
      "cell_type": "code",
      "metadata": {
        "id": "R01xObvauoet"
      },
      "source": [
        "y_pred_sub(y_pred, r'sub2.csv')"
      ],
      "execution_count": 108,
      "outputs": []
    },
    {
      "cell_type": "code",
      "metadata": {
        "id": "_q73U3SNV_I1"
      },
      "source": [
        "#split: We split the dataset in 80-20% in order to test our model\n",
        "X_train = X_train_split\n",
        "y_train = y_train_split\n",
        "X_test = X_test_split\n",
        "vectorizer=TfidfVectorizer(tokenizer=spacy_tokenizer)\n",
        "classifier=LogisticRegressionCV(solver='lbfgs', cv=5, max_iter=1000)\n",
        "pipe = Pipeline([('vectorizer', vectorizer),\n",
        "                 ('classifier', classifier)])\n",
        "pipe.fit(X_train, y_train)\n",
        "y_pred_test=pipe.predict(X_test)\n"
      ],
      "execution_count": 109,
      "outputs": []
    },
    {
      "cell_type": "code",
      "metadata": {
        "id": "9sekKrURV_I1",
        "colab": {
          "base_uri": "https://localhost:8080/"
        },
        "outputId": "cf56263d-65be-4b7b-9dd1-d6bdb607e110"
      },
      "source": [
        "round(accuracy_score(y_test_split, y_pred_test),3)"
      ],
      "execution_count": 110,
      "outputs": [
        {
          "output_type": "execute_result",
          "data": {
            "text/plain": [
              "0.8"
            ]
          },
          "metadata": {
            "tags": []
          },
          "execution_count": 110
        }
      ]
    },
    {
      "cell_type": "markdown",
      "metadata": {
        "id": "PN4gXi0hMVh3"
      },
      "source": [
        "### Submission 3/4/5: LogisticRegression and LogisticRegressionCV, SimplePreprocess as Tokenizer, duplicates were deleted"
      ]
    },
    {
      "cell_type": "code",
      "metadata": {
        "id": "xC9bZsFzV_I2"
      },
      "source": [
        "from gensim.utils import simple_preprocess"
      ],
      "execution_count": 111,
      "outputs": []
    },
    {
      "cell_type": "code",
      "metadata": {
        "id": "JqejZ-zuV_I2"
      },
      "source": [
        "#split: We split the dataset in 80-20% in order to test our model\n",
        "X_train = X_train_split\n",
        "y_train = y_train_split\n",
        "X_test = X_test_split\n",
        "vectorizer_simple = TfidfVectorizer(tokenizer=simple_preprocess)\n",
        "classifier=LogisticRegressionCV(solver='lbfgs', cv=5, max_iter=1000)\n",
        "pipe = Pipeline([('vectorizer', vectorizer_simple),\n",
        "                 ('classifier', classifier)])\n",
        "pipe.fit(X_train, y_train)\n",
        "y_pred_test=pipe.predict(X_test)"
      ],
      "execution_count": 112,
      "outputs": []
    },
    {
      "cell_type": "code",
      "metadata": {
        "id": "eR5UtnX-V_I2",
        "colab": {
          "base_uri": "https://localhost:8080/"
        },
        "outputId": "946db169-660e-47d1-eecc-18e9d4ccbe7e"
      },
      "source": [
        "round(accuracy_score(y_test_split, y_pred_test),3)"
      ],
      "execution_count": 113,
      "outputs": [
        {
          "output_type": "execute_result",
          "data": {
            "text/plain": [
              "0.793"
            ]
          },
          "metadata": {
            "tags": []
          },
          "execution_count": 113
        }
      ]
    },
    {
      "cell_type": "markdown",
      "metadata": {
        "id": "AXprAdh_V_I3"
      },
      "source": [
        "### Submission 6: LogisticRegressionCV (CV = 5), Simple Tokenizer, best score"
      ]
    },
    {
      "cell_type": "code",
      "metadata": {
        "id": "CYCkLtTpV_I3"
      },
      "source": [
        "X_train = training_processed.tokens\n",
        "y_train = training_processed.target\n",
        "X_test = test.text\n",
        "vectorizer=TfidfVectorizer(tokenizer=spacy_tokenizer)\n",
        "classifier=LogisticRegressionCV(solver='lbfgs', cv=5, max_iter=1000)"
      ],
      "execution_count": 114,
      "outputs": []
    },
    {
      "cell_type": "code",
      "metadata": {
        "id": "PD1jNhZgV_I3",
        "colab": {
          "base_uri": "https://localhost:8080/"
        },
        "outputId": "ae43a457-02eb-44b9-c899-2ccc3d504b4a"
      },
      "source": [
        "X_test"
      ],
      "execution_count": 115,
      "outputs": [
        {
          "output_type": "execute_result",
          "data": {
            "text/plain": [
              "id\n",
              "9972     Crptotech tsunami and banks.\\n http://t.co/KHz...\n",
              "9865     I'm that traumatised that I can't even spell p...\n",
              "1937     @foxnewsvideo @AIIAmericanGirI @ANHQDC So ... ...\n",
              "3560     Me watching Law &amp; Order (IB: @sauldale305)...\n",
              "2731                     Papi absolutely crushed that ball\n",
              "                               ...                        \n",
              "3497     @ItsQueenBaby I'm at work it's a bunch of ppl ...\n",
              "9191     #?? #?? #??? #??? Suicide bomber kills 15 in S...\n",
              "10217    Eruption of Indonesian volcano sparks transpor...\n",
              "5308     Never let fear get in the way of achieving you...\n",
              "8044     wowo--=== 12000 Nigerian refugees repatriated ...\n",
              "Name: text, Length: 1142, dtype: object"
            ]
          },
          "metadata": {
            "tags": []
          },
          "execution_count": 115
        }
      ]
    },
    {
      "cell_type": "code",
      "metadata": {
        "id": "nsos7XFfV_I3"
      },
      "source": [
        "vectorizer=TfidfVectorizer(tokenizer=spacy_tokenizer)\n",
        "classifier=LogisticRegressionCV(solver='lbfgs', cv=5, max_iter=1000)\n",
        "pipe = Pipeline([('vectorizer', vectorizer),\n",
        "                 ('classifier', classifier)])\n",
        "pipe.fit(X_train, y_train)                 \n",
        "y_pred=pipe.predict(X_test)\n",
        "sample.target=y_pred\n",
        "sample.to_csv(r'sub6.csv', index = False)"
      ],
      "execution_count": 116,
      "outputs": []
    },
    {
      "cell_type": "code",
      "metadata": {
        "id": "Y_hzVEHrV_I3"
      },
      "source": [
        "#split: We split the dataset in 80-20% in order to test our model\n",
        "X_train = X_train_split\n",
        "y_train = y_train_split\n",
        "X_test = X_test_split\n",
        "vectorizer=TfidfVectorizer(tokenizer=spacy_tokenizer)\n",
        "classifier=LogisticRegressionCV(solver='lbfgs', cv=5, max_iter=1000)\n",
        "pipe = Pipeline([('vectorizer', vectorizer),\n",
        "                 ('classifier', classifier)])\n",
        "pipe.fit(X_train, y_train)\n",
        "y_pred_test=pipe.predict(X_test)"
      ],
      "execution_count": 117,
      "outputs": []
    },
    {
      "cell_type": "code",
      "metadata": {
        "id": "QlGaQjlcV_I4",
        "colab": {
          "base_uri": "https://localhost:8080/"
        },
        "outputId": "fb794ace-9d02-4f4c-9add-50c007e5b4e3"
      },
      "source": [
        "round(accuracy_score(y_test_split, y_pred_test),3)"
      ],
      "execution_count": 118,
      "outputs": [
        {
          "output_type": "execute_result",
          "data": {
            "text/plain": [
              "0.8"
            ]
          },
          "metadata": {
            "tags": []
          },
          "execution_count": 118
        }
      ]
    },
    {
      "cell_type": "markdown",
      "metadata": {
        "id": "6lzqGEvHMVh5"
      },
      "source": [
        "### Submission 7: Same as Submission 6 but with a resampling"
      ]
    },
    {
      "cell_type": "code",
      "metadata": {
        "id": "3tEWuP8tMVh6",
        "colab": {
          "base_uri": "https://localhost:8080/"
        },
        "outputId": "11ca11e6-a8d7-47ea-b1ae-6d38edb7d0b1"
      },
      "source": [
        "rows=len(training_processed[training_processed.target==1]) #row of resampled df (baserate=0.5)\n",
        "training_processed[training_processed.target==0].sample(rows)\n",
        "training_resampled=pd.concat([training_processed[training_processed.target==1], training_processed[training_processed.target==0].sample(rows)], axis=0)\n",
        "training_resampled.target.value_counts() "
      ],
      "execution_count": 123,
      "outputs": [
        {
          "output_type": "execute_result",
          "data": {
            "text/plain": [
              "1    2770\n",
              "0    2770\n",
              "Name: target, dtype: int64"
            ]
          },
          "metadata": {
            "tags": []
          },
          "execution_count": 123
        }
      ]
    },
    {
      "cell_type": "code",
      "metadata": {
        "id": "UaAf8CHoMVh8"
      },
      "source": [
        "X_train_resample = training_resampled.tokens\n",
        "y_train_resample = training_resampled.target\n",
        "X_test_resample = test.text"
      ],
      "execution_count": 124,
      "outputs": []
    },
    {
      "cell_type": "code",
      "metadata": {
        "id": "z31VRV_tMVh_",
        "colab": {
          "base_uri": "https://localhost:8080/"
        },
        "outputId": "d73c9a7b-8f47-461c-ba7b-9f173b9502b9"
      },
      "source": [
        "vectorizer=TfidfVectorizer(tokenizer=spacy_tokenizer)\n",
        "classifier=LogisticRegressionCV(solver='lbfgs', cv=5, max_iter=1000)\n",
        "pipe = Pipeline([('vectorizer', vectorizer),\n",
        "                 ('classifier', classifier)])\n",
        "                 \n",
        "pipe.fit(X_train_resample, y_train_resample)\n",
        "\n",
        "#train accuracy:\n",
        "print('Train accuracy: ', round(pipe.score(X_train_resample, y_train_resample),2))\n",
        "\n",
        "y_pred=pipe.predict(X_test_resample)\n",
        "sample.target=y_pred\n",
        "sample.to_csv(r'sub7.csv', index = False)"
      ],
      "execution_count": 125,
      "outputs": [
        {
          "output_type": "stream",
          "text": [
            "Train accuracy:  0.87\n"
          ],
          "name": "stdout"
        }
      ]
    },
    {
      "cell_type": "code",
      "metadata": {
        "id": "EaVjDeqSV_I5"
      },
      "source": [
        "#split: We don't test our model here, because resampling the splitted data won't improve accuracy\n"
      ],
      "execution_count": 126,
      "outputs": []
    },
    {
      "cell_type": "markdown",
      "metadata": {
        "id": "a4KuGQB-MViA"
      },
      "source": [
        "### Submission 8: RandomForestClassifier, TF-IDF default"
      ]
    },
    {
      "cell_type": "code",
      "metadata": {
        "id": "APEunGBbvgnA"
      },
      "source": [
        "X_train = training_processed.tokens\n",
        "y_train = training_processed.target\n",
        "X_test = test.text\n",
        "vectorizer=TfidfVectorizer(tokenizer=spacy_tokenizer)\n",
        "classifier=RandomForestClassifier()"
      ],
      "execution_count": 127,
      "outputs": []
    },
    {
      "cell_type": "code",
      "metadata": {
        "id": "Yn-N5dNjvgnE",
        "colab": {
          "base_uri": "https://localhost:8080/"
        },
        "outputId": "9a60283f-320f-4eb3-bbd9-04556532a452"
      },
      "source": [
        "y_pred=pipe_sub(X_train, y_train, X_test, vectorizer, classifier)"
      ],
      "execution_count": 128,
      "outputs": [
        {
          "output_type": "stream",
          "text": [
            "Train accuracy:  1.0\n"
          ],
          "name": "stdout"
        }
      ]
    },
    {
      "cell_type": "code",
      "metadata": {
        "id": "NWf2INyRvgnK"
      },
      "source": [
        "y_pred_sub(y_pred, r'sub8.csv')"
      ],
      "execution_count": 129,
      "outputs": []
    },
    {
      "cell_type": "code",
      "metadata": {
        "id": "omYO-jrbV_I5"
      },
      "source": [
        "#split: We split the dataset in 80-20% in order to test our model\n",
        "X_train = X_train_split\n",
        "y_train = y_train_split\n",
        "X_test = X_test_split\n",
        "vectorizer=TfidfVectorizer(tokenizer=spacy_tokenizer)\n",
        "classifier=RandomForestClassifier()\n",
        "pipe = Pipeline([('vectorizer', vectorizer),\n",
        "                 ('classifier', classifier)])\n",
        "pipe.fit(X_train, y_train)\n",
        "y_pred_test=pipe.predict(X_test)\n"
      ],
      "execution_count": 130,
      "outputs": []
    },
    {
      "cell_type": "code",
      "metadata": {
        "id": "5RJ_fbGqV_I6",
        "colab": {
          "base_uri": "https://localhost:8080/"
        },
        "outputId": "8df449be-acc1-443d-f071-073442b16830"
      },
      "source": [
        "round(accuracy_score(y_test_split, y_pred_test),3)"
      ],
      "execution_count": 131,
      "outputs": [
        {
          "output_type": "execute_result",
          "data": {
            "text/plain": [
              "0.773"
            ]
          },
          "metadata": {
            "tags": []
          },
          "execution_count": 131
        }
      ]
    },
    {
      "cell_type": "markdown",
      "metadata": {
        "id": "GSvnkGcDMViF"
      },
      "source": [
        "### Submission 9: RandomForestClassifier, TF-IDF default, resampled"
      ]
    },
    {
      "cell_type": "code",
      "metadata": {
        "colab": {
          "base_uri": "https://localhost:8080/"
        },
        "id": "5WqMXLXOMViH",
        "outputId": "4ceb827c-4ab3-4eae-f0c4-42abf634b1b5"
      },
      "source": [
        "rows=len(training_processed[training_processed.target==1]) #row of resampled df (baserate=0.5)\n",
        "training_processed[training_processed.target==0].sample(rows)\n",
        "training_resampled=pd.concat([training_processed[training_processed.target==1], training_processed[training_processed.target==0].sample(rows)], axis=0)\n",
        "training_resampled.target.value_counts() \n",
        "\n",
        "\n",
        "classifier = RandomForestClassifier()\n",
        "pipe = Pipeline([('vectorizer', vectorizer),\n",
        "                 ('classifier', classifier)])\n",
        "pipe.fit(X_train_resample, y_train_resample)\n",
        "print('Train accuracy: ', round(pipe.score(X_train_resample, y_train_resample),2))\n",
        "\n",
        "y_pred=pipe.predict(X_test_resample)\n",
        "sample.target=y_pred\n",
        "sample.to_csv(r'sub9.csv', index = False)\n"
      ],
      "execution_count": 132,
      "outputs": [
        {
          "output_type": "stream",
          "text": [
            "Train accuracy:  1.0\n"
          ],
          "name": "stdout"
        }
      ]
    },
    {
      "cell_type": "code",
      "metadata": {
        "id": "isfUOquOV_I6"
      },
      "source": [
        "#split: We don't test our model here, because resampling the splitted data won't improve accuracy"
      ],
      "execution_count": 133,
      "outputs": []
    },
    {
      "cell_type": "markdown",
      "metadata": {
        "id": "ZyDR6zxCMViI"
      },
      "source": [
        "### Submission 10: LogisticRegressionCV (CV = 5), TF-IDF default, Keywords and Tokens columns were merged"
      ]
    },
    {
      "cell_type": "code",
      "metadata": {
        "id": "UYx18CakyFdq"
      },
      "source": [
        "X_train = training_processed.merged\n",
        "y_train = training_processed.target\n",
        "X_test = test.text\n",
        "vectorizer=TfidfVectorizer(tokenizer=spacy_tokenizer)\n",
        "classifier=LogisticRegressionCV(solver='lbfgs', cv=5, max_iter=1000)"
      ],
      "execution_count": 134,
      "outputs": []
    },
    {
      "cell_type": "code",
      "metadata": {
        "id": "cEFS3H9iyFdt",
        "colab": {
          "base_uri": "https://localhost:8080/"
        },
        "outputId": "2ec6c35a-232e-4f7b-9363-63ac2563e13c"
      },
      "source": [
        "y_pred=pipe_sub(X_train, y_train, X_test, vectorizer, classifier)"
      ],
      "execution_count": 135,
      "outputs": [
        {
          "output_type": "stream",
          "text": [
            "Train accuracy:  0.92\n"
          ],
          "name": "stdout"
        }
      ]
    },
    {
      "cell_type": "code",
      "metadata": {
        "id": "U9e6fl3TyFdw"
      },
      "source": [
        "y_pred_sub(y_pred, r'sub10.csv')"
      ],
      "execution_count": 136,
      "outputs": []
    },
    {
      "cell_type": "code",
      "metadata": {
        "id": "JPdwqFtLV_I7"
      },
      "source": [
        "#split: We split the dataset in 80-20% in order to test our model\n",
        "X_train = X_train_split\n",
        "y_train = y_train_split\n",
        "X_test = X_test_split\n",
        "vectorizer=TfidfVectorizer(tokenizer=spacy_tokenizer)\n",
        "classifier=LogisticRegressionCV(solver='lbfgs', cv=5, max_iter=1000)\n",
        "pipe = Pipeline([('vectorizer', vectorizer),\n",
        "                 ('classifier', classifier)])\n",
        "pipe.fit(X_train, y_train)\n",
        "y_pred_test=pipe.predict(X_test)\n"
      ],
      "execution_count": 137,
      "outputs": []
    },
    {
      "cell_type": "code",
      "metadata": {
        "id": "UKmH3FUxV_I7",
        "colab": {
          "base_uri": "https://localhost:8080/"
        },
        "outputId": "24137869-4454-491b-ba05-8d15377761ef"
      },
      "source": [
        "round(accuracy_score(y_test_split, y_pred_test),3)"
      ],
      "execution_count": 138,
      "outputs": [
        {
          "output_type": "execute_result",
          "data": {
            "text/plain": [
              "0.8"
            ]
          },
          "metadata": {
            "tags": []
          },
          "execution_count": 138
        }
      ]
    },
    {
      "cell_type": "markdown",
      "metadata": {
        "id": "Z-bNcTrTMViO"
      },
      "source": [
        "### Submission 11: LogisticRegression default, TF-IDF default, Keywords and Tokens columns were merged"
      ]
    },
    {
      "cell_type": "code",
      "metadata": {
        "id": "2l-_DScaynfN"
      },
      "source": [
        "X_train = training_processed.merged\n",
        "y_train = training_processed.target\n",
        "X_test = test.text\n",
        "vectorizer=TfidfVectorizer(tokenizer=spacy_tokenizer)\n",
        "classifier=LogisticRegression(solver='lbfgs')"
      ],
      "execution_count": 139,
      "outputs": []
    },
    {
      "cell_type": "code",
      "metadata": {
        "id": "lUutH7pMynfS",
        "colab": {
          "base_uri": "https://localhost:8080/"
        },
        "outputId": "d2c3fafd-5a37-4bf9-b497-aa7d9a5b8014"
      },
      "source": [
        "y_pred=pipe_sub(X_train, y_train, X_test, vectorizer, classifier)"
      ],
      "execution_count": 140,
      "outputs": [
        {
          "output_type": "stream",
          "text": [
            "Train accuracy:  0.88\n"
          ],
          "name": "stdout"
        }
      ]
    },
    {
      "cell_type": "code",
      "metadata": {
        "id": "STemW-IGynfb"
      },
      "source": [
        "y_pred_sub(y_pred, r'sub11.csv')"
      ],
      "execution_count": 141,
      "outputs": []
    },
    {
      "cell_type": "code",
      "metadata": {
        "id": "RueDTNaFV_I8"
      },
      "source": [
        "#split: We split the dataset in 80-20% in order to test our model\n",
        "X_train = X_train_split\n",
        "y_train = y_train_split\n",
        "X_test = X_test_split\n",
        "vectorizer=TfidfVectorizer(tokenizer=spacy_tokenizer)\n",
        "classifier=LogisticRegression(solver='lbfgs')\n",
        "pipe = Pipeline([('vectorizer', vectorizer),\n",
        "                 ('classifier', classifier)])\n",
        "pipe.fit(X_train, y_train)\n",
        "y_pred_test=pipe.predict(X_test)\n"
      ],
      "execution_count": 142,
      "outputs": []
    },
    {
      "cell_type": "code",
      "metadata": {
        "id": "KRUW7k3jV_I8",
        "colab": {
          "base_uri": "https://localhost:8080/"
        },
        "outputId": "064c39ec-7585-4180-b39c-f9d5c5c0267f"
      },
      "source": [
        "round(accuracy_score(y_test_split, y_pred_test),3)"
      ],
      "execution_count": 143,
      "outputs": [
        {
          "output_type": "execute_result",
          "data": {
            "text/plain": [
              "0.805"
            ]
          },
          "metadata": {
            "tags": []
          },
          "execution_count": 143
        }
      ]
    },
    {
      "cell_type": "markdown",
      "metadata": {
        "id": "VqnKY7zCMViQ"
      },
      "source": [
        "### Submission 12: LogisticRegressionCV (CV = 5), TF-IDF default, Improved Tokenizer, Keywords and Tokens were merged"
      ]
    },
    {
      "cell_type": "code",
      "metadata": {
        "id": "MuS-c3DZy9R7"
      },
      "source": [
        "X_train = training_processed.merged2\n",
        "y_train = training_processed.target\n",
        "X_test = test.text\n",
        "vectorizer=TfidfVectorizer(tokenizer=spacy_tokenizer)\n",
        "classifier=LogisticRegressionCV(solver='lbfgs', cv=5, max_iter=1000)"
      ],
      "execution_count": 144,
      "outputs": []
    },
    {
      "cell_type": "code",
      "metadata": {
        "id": "ak_k1FSGy9R-",
        "colab": {
          "base_uri": "https://localhost:8080/"
        },
        "outputId": "5f8e90b7-d5f2-48bf-ecb2-e3e4f8a9dadb"
      },
      "source": [
        "y_pred=pipe_sub(X_train, y_train, X_test, vectorizer, classifier)"
      ],
      "execution_count": 145,
      "outputs": [
        {
          "output_type": "stream",
          "text": [
            "Train accuracy:  0.91\n"
          ],
          "name": "stdout"
        }
      ]
    },
    {
      "cell_type": "code",
      "metadata": {
        "id": "-y-nClfWy9SD"
      },
      "source": [
        "y_pred_sub(y_pred, r'sub12.csv')"
      ],
      "execution_count": 146,
      "outputs": []
    },
    {
      "cell_type": "code",
      "metadata": {
        "id": "-KYsuz8lV_I-"
      },
      "source": [
        "#split: We split the dataset in 80-20% in order to test our model\n",
        "X_train = X_train_split\n",
        "y_train = y_train_split\n",
        "X_test = X_test_split\n",
        "vectorizer=TfidfVectorizer(tokenizer=spacy_tokenizer)\n",
        "classifier=LogisticRegressionCV(solver='lbfgs', cv=5, max_iter=1000)\n",
        "pipe = Pipeline([('vectorizer', vectorizer),\n",
        "                 ('classifier', classifier)])\n",
        "pipe.fit(X_train, y_train)\n",
        "y_pred_test=pipe.predict(X_test)\n"
      ],
      "execution_count": 147,
      "outputs": []
    },
    {
      "cell_type": "code",
      "metadata": {
        "id": "uzR0Mh-HV_I-",
        "colab": {
          "base_uri": "https://localhost:8080/"
        },
        "outputId": "45aeea29-3887-4ec8-f295-9811bf8c1617"
      },
      "source": [
        "round(accuracy_score(y_test_split, y_pred_test),3)"
      ],
      "execution_count": 148,
      "outputs": [
        {
          "output_type": "execute_result",
          "data": {
            "text/plain": [
              "0.8"
            ]
          },
          "metadata": {
            "tags": []
          },
          "execution_count": 148
        }
      ]
    },
    {
      "cell_type": "markdown",
      "metadata": {
        "id": "o6nlMYSjMViV"
      },
      "source": [
        "### Submissions 13/14/15: LogisticRegression (C = 1.206/1.75), Hyperparameters tunning with GridSearchCV, TF-IDF default, Simple and Improved Tokenizer, Keywords and Tokens were merged, also tried on Tokens only"
      ]
    },
    {
      "cell_type": "code",
      "metadata": {
        "id": "8yfjlvDOMViW"
      },
      "source": [
        "## We import the new package\n",
        "#from sklearn.model_selection import GridSearchCV"
      ],
      "execution_count": 149,
      "outputs": []
    },
    {
      "cell_type": "code",
      "metadata": {
        "id": "E6ZuBpfNV_I-"
      },
      "source": [
        "X_train = training_processed['merged']\n",
        "y_train = training_processed['target']\n",
        "X_test = test.text"
      ],
      "execution_count": 150,
      "outputs": []
    },
    {
      "cell_type": "code",
      "metadata": {
        "id": "zJugRxl1MViX"
      },
      "source": [
        "##The different parameters we would like to evaluate are defined\n",
        "#C = np.logspace(-4,4,50)\n",
        "#penalty = ['l2']\n",
        "#param_grid = dict(classifier__C=C, classifier__penalty = penalty)\n"
      ],
      "execution_count": 151,
      "outputs": []
    },
    {
      "cell_type": "code",
      "metadata": {
        "id": "SMb8AQztMViZ"
      },
      "source": [
        "# tfidf_vector = TfidfVectorizer(tokenizer=spacy_tokenizer)\n",
        "#pipe = Pipeline([('vectorizer', tfidf_vector),\n",
        "#                 ('classifier', LogModel)])\n",
        "#pipe.fit(X_train, y_train)"
      ],
      "execution_count": 152,
      "outputs": []
    },
    {
      "cell_type": "code",
      "metadata": {
        "id": "GGB54p5UMVia"
      },
      "source": [
        "#grid = GridSearchCV(pipe, param_grid)\n",
        "#grid.fit(X_train, y_train)\n",
        "#sorted(grid.cv_results_.keys())"
      ],
      "execution_count": 153,
      "outputs": []
    },
    {
      "cell_type": "code",
      "metadata": {
        "id": "NXsxAN2OMVib"
      },
      "source": [
        "## We extract the different parameters in order to report them in the LogModel below. After we excute the regression\n",
        "#grid.best_estimator_\n",
        "#grid.best_estimator_.get_params()"
      ],
      "execution_count": 154,
      "outputs": []
    },
    {
      "cell_type": "code",
      "metadata": {
        "id": "m9FQJzPOMVic"
      },
      "source": [
        "LogModel = LogisticRegression(C=1.2067926406393288, max_iter=10000)"
      ],
      "execution_count": 155,
      "outputs": []
    },
    {
      "cell_type": "code",
      "metadata": {
        "id": "S42XkhxoMVid",
        "colab": {
          "base_uri": "https://localhost:8080/"
        },
        "outputId": "99ef51e3-3c47-4e80-e6ac-ed938d54dc55"
      },
      "source": [
        "tfidf_vector = TfidfVectorizer(tokenizer=spacy_tokenizer)\n",
        "pipe = Pipeline([('vectorizer', tfidf_vector),\n",
        "                 ('classifier', LogModel)])\n",
        "pipe.fit(X_train, y_train)\n",
        "\n",
        "\n",
        "#train accuracy:\n",
        "print('Train accuracy: ', round(pipe.score(X_train, y_train),2))"
      ],
      "execution_count": 156,
      "outputs": [
        {
          "output_type": "stream",
          "text": [
            "Train accuracy:  0.89\n"
          ],
          "name": "stdout"
        }
      ]
    },
    {
      "cell_type": "code",
      "metadata": {
        "id": "8BolF6OxMVie"
      },
      "source": [
        "y_pred=pipe.predict(X_test)\n",
        "sample.target=y_pred\n",
        "sample.to_csv(r'sub13.csv', index = False)"
      ],
      "execution_count": 157,
      "outputs": []
    },
    {
      "cell_type": "code",
      "metadata": {
        "id": "8gomw3fXMVie"
      },
      "source": [
        "X_train = training_processed.tokens\n",
        "y_train = training_processed.target\n",
        "X_test = test.text"
      ],
      "execution_count": 158,
      "outputs": []
    },
    {
      "cell_type": "code",
      "metadata": {
        "id": "jsC0OUOxMVif",
        "colab": {
          "base_uri": "https://localhost:8080/"
        },
        "outputId": "5ff4a92a-f645-48bb-af09-5b9e86600503"
      },
      "source": [
        "pipe = Pipeline([('vectorizer', tfidf_vector),\n",
        "                 ('classifier', LogModel)])\n",
        "pipe.fit(X_train, y_train)\n",
        "\n",
        "\n",
        "#train accuracy:\n",
        "print('Train accuracy: ', round(pipe.score(X_train, y_train),2))\n",
        "\n",
        "y_pred=pipe.predict(X_test)\n",
        "sample.target=y_pred\n",
        "sample.to_csv(r'sub14.csv', index = False)"
      ],
      "execution_count": 159,
      "outputs": [
        {
          "output_type": "stream",
          "text": [
            "Train accuracy:  0.9\n"
          ],
          "name": "stdout"
        }
      ]
    },
    {
      "cell_type": "code",
      "metadata": {
        "id": "CM2uQXZ8MVih"
      },
      "source": [
        "#grid = GridSearchCV(pipe, param_grid)\n",
        "#grid.fit(X_train, y_train)\n",
        "#sorted(grid.cv_results_.keys())"
      ],
      "execution_count": 160,
      "outputs": []
    },
    {
      "cell_type": "code",
      "metadata": {
        "id": "eVVicZylMVij"
      },
      "source": [
        "#grid.best_estimator_\n",
        "#grid.best_estimator_.get_params()"
      ],
      "execution_count": 161,
      "outputs": []
    },
    {
      "cell_type": "code",
      "metadata": {
        "id": "XtipiUvYMVio"
      },
      "source": [
        "LogModel2 = LogisticRegression(C=1.7575106248547894, max_iter=10000)\n"
      ],
      "execution_count": 162,
      "outputs": []
    },
    {
      "cell_type": "code",
      "metadata": {
        "id": "csg15BDxMViq",
        "colab": {
          "base_uri": "https://localhost:8080/"
        },
        "outputId": "9d3adc7f-d26b-46ad-b98a-d494df829b57"
      },
      "source": [
        "pipe = Pipeline([('vectorizer', tfidf_vector),\n",
        "                 ('classifier', LogModel2)])\n",
        "pipe.fit(X_train, y_train)\n",
        "\n",
        "\n",
        "#train accuracy:\n",
        "print('Train accuracy: ', round(pipe.score(X_train, y_train),2))\n",
        "\n",
        "y_pred=pipe.predict(X_test)\n",
        "sample.target=y_pred\n",
        "sample.to_csv(r'sub15.csv', index = False)"
      ],
      "execution_count": 163,
      "outputs": [
        {
          "output_type": "stream",
          "text": [
            "Train accuracy:  0.92\n"
          ],
          "name": "stdout"
        }
      ]
    },
    {
      "cell_type": "markdown",
      "metadata": {
        "id": "1mEhRy-2MVir"
      },
      "source": [
        "All these submissions had a disappointing output, we expected more from the tuning of the hyperparameters. We will keep investigating on how to use these."
      ]
    },
    {
      "cell_type": "markdown",
      "metadata": {
        "id": "x-vj5E3JMVit"
      },
      "source": [
        "### Submission 16: LogisticRegression (C = 1.75), Hyperparameters tunning with GridSearchCV, TF-IDF default, Improved Tokenizer, Keywords and Tokens were merged"
      ]
    },
    {
      "cell_type": "code",
      "metadata": {
        "id": "hMD5ZaszMVit"
      },
      "source": [
        "#df_train_merge = training\n",
        "#df_train_merge['merge2'] = df_train_merge['keyword'] + ' ' + df_train_merge['tokens2']\n",
        "#df_train_merge['merge2'].fillna(' ', inplace=True)\n",
        "#df_train_merge"
      ],
      "execution_count": 164,
      "outputs": []
    },
    {
      "cell_type": "code",
      "metadata": {
        "id": "pz29imhdMViv"
      },
      "source": [
        "#redefinir pipe\n",
        "LogModel = LogisticRegression(max_iter=10000)\n",
        "pipe = Pipeline([('vectorizer', tfidf_vector),\n",
        "                 ('classifier', LogModel)])"
      ],
      "execution_count": 165,
      "outputs": []
    },
    {
      "cell_type": "code",
      "metadata": {
        "id": "Dp9RdGA9MViw"
      },
      "source": [
        "X_train = training_processed.merged2\n",
        "y_train = training_processed.target\n",
        "X_test = test.text\n",
        "\n",
        "##The different parameters we would like to evaluate are defined\n",
        "#C = np.logspace(-4,4,50)\n",
        "#penalty = ['l2']\n",
        "#param_grid = dict(classifier__C=C, classifier__penalty = penalty)\n",
        "#grid = GridSearchCV(pipe, param_grid)\n",
        "#grid.fit(X_train, y_train)\n",
        "#sorted(grid.cv_results_.keys())"
      ],
      "execution_count": 167,
      "outputs": []
    },
    {
      "cell_type": "code",
      "metadata": {
        "id": "XWSAjGU-MViy"
      },
      "source": [
        "#grid.best_estimator_\n",
        "#grid.best_estimator_.get_params()\n",
        "# same C as before, hence same results"
      ],
      "execution_count": null,
      "outputs": []
    },
    {
      "cell_type": "code",
      "metadata": {
        "id": "LRJ5tJDLMViy",
        "colab": {
          "base_uri": "https://localhost:8080/"
        },
        "outputId": "89f7b116-73a8-4795-a8f7-63dd207ed72f"
      },
      "source": [
        "LogModel6 = LogisticRegression(C=1.7575106248547894, max_iter=10000)\n",
        "\n",
        "pipe = Pipeline([('vectorizer', tfidf_vector),\n",
        "                 ('classifier', LogModel6)])\n",
        "pipe.fit(X_train, y_train)\n",
        "\n",
        "\n",
        "#train accuracy:\n",
        "print('Train accuracy: ', round(pipe.score(X_train, y_train),2))\n",
        "\n",
        "y_pred=pipe.predict(X_test)\n",
        "sample.target=y_pred\n",
        "sample.to_csv(r'sub16.csv', index = False)"
      ],
      "execution_count": 168,
      "outputs": [
        {
          "output_type": "stream",
          "text": [
            "Train accuracy:  0.89\n"
          ],
          "name": "stdout"
        }
      ]
    },
    {
      "cell_type": "markdown",
      "metadata": {
        "id": "Pa1sMrZ8V_JE"
      },
      "source": [
        "\n",
        "### Submission 17: LogisticRegression (C = 1.2), TF-IDF parameters tunning, Simple Tokenizer"
      ]
    },
    {
      "cell_type": "markdown",
      "metadata": {
        "id": "y6-HrSe5V_JE"
      },
      "source": [
        "For this part, we used the part 4.3.1 of the lab \"Text_Analytics\" in order to see all the different possibilities for the parameters of the TF-IDF"
      ]
    },
    {
      "cell_type": "code",
      "metadata": {
        "id": "l7z0xL-2CoeU"
      },
      "source": [
        "X_train = X_train_split\n",
        "y_train = y_train_split\n",
        "X_test = X_test_split"
      ],
      "execution_count": 171,
      "outputs": []
    },
    {
      "cell_type": "code",
      "metadata": {
        "id": "-ocHzUQ4V_JE"
      },
      "source": [
        "# Create list of configs\n",
        "#def configs():\n",
        "\n",
        "#    models = list()\n",
        "    \n",
        "    # Define config lists\n",
        "#    ngram_range = [(1,1), (1,2), (1, 3), (2, 2), (2, 3), (3, 3)]\n",
        "#    min_df = [1]\n",
        "#    max_df = [1.0]\n",
        "#    analyzer=['word', 'char']\n",
        "#    \n",
        "    # Create config instances\n",
        "#        for i in min_df:\n",
        "#    for n in ngram_range:\n",
        "#            for j in max_df:\n",
        "#              for a in analyzer:\n",
        "#                    cfg = [n, i, j, a]\n",
        "#                    models.append(cfg)\n",
        "#    return models\n",
        "\n",
        "#configs = configs()\n",
        "#configs[:10]"
      ],
      "execution_count": 169,
      "outputs": []
    },
    {
      "cell_type": "code",
      "metadata": {
        "id": "0963q_MQV_JE"
      },
      "source": [
        "# Define list for result\n",
        "#result = []\n",
        "\n",
        "#for config in configs:\n",
        "\n",
        "    # Redefine vectorizer\n",
        "#    tfidf_vector = TfidfVectorizer(tokenizer=spacy_tokenizer, \n",
        "                                   #ngram_range=config[0],\n",
        "                                   #min_df=config[1], max_df=config[2], analyzer=config[3])\n",
        "\n",
        "    # Define classifier\n",
        "#    classifier = LogisticRegression()\n",
        "\n",
        "    # Create pipeline\n",
        "#    pipe = Pipeline([('vectorizer', tfidf_vector),\n",
        "#                 ('classifier', classifier)])\n",
        "\n",
        "    # Fit model on training set\n",
        "#    pipe.fit(X_train, y_train)\n",
        "\n",
        "    # Predictions\n",
        "#    y_pred = pipe.predict(X_test)\n",
        "\n",
        "    # Print accuracy on test set\n",
        "#    print(\"CONFIG: \", config)\n",
        "#    evaluate(y_test, y_pred)\n",
        "#    print(\"-----------------------\")\n",
        "\n",
        "    # Append to result\n",
        "#    result.append([config, accuracy_score(y_test, y_pred)])"
      ],
      "execution_count": 186,
      "outputs": []
    },
    {
      "cell_type": "code",
      "metadata": {
        "id": "jhTc3bJzV_JE"
      },
      "source": [
        " tfidf_vector_tunned = TfidfVectorizer(tokenizer=spacy_tokenizer, \n",
        "                                   ngram_range=(1, 3),\n",
        "                                   min_df= 1, max_df=1.0, analyzer='word')"
      ],
      "execution_count": 172,
      "outputs": []
    },
    {
      "cell_type": "code",
      "metadata": {
        "id": "ZESHLeg5V_JF"
      },
      "source": [
        "#split: We split the dataset in 80-20% in order to test our model\n",
        "X_train = X_train_split\n",
        "y_train = y_train_split\n",
        "X_test = X_test_split\n",
        "classifier=LogisticRegression(C=1.2, max_iter=1000)\n",
        "pipe = Pipeline([('vectorizer', tfidf_vector_tunned),\n",
        "                 ('classifier', classifier)])\n",
        "pipe.fit(X_train, y_train)\n",
        "y_pred_test=pipe.predict(X_test)"
      ],
      "execution_count": 173,
      "outputs": []
    },
    {
      "cell_type": "code",
      "metadata": {
        "id": "Ry2OcJPOV_JF",
        "colab": {
          "base_uri": "https://localhost:8080/"
        },
        "outputId": "1f909564-34f9-4191-d2bb-357787fe90e7"
      },
      "source": [
        "round(accuracy_score(y_test_split, y_pred_test),3)"
      ],
      "execution_count": 174,
      "outputs": [
        {
          "output_type": "execute_result",
          "data": {
            "text/plain": [
              "0.802"
            ]
          },
          "metadata": {
            "tags": []
          },
          "execution_count": 174
        }
      ]
    },
    {
      "cell_type": "code",
      "metadata": {
        "id": "XacZ7lPwV_JF"
      },
      "source": [
        "X_train = training_processed.tokens\n",
        "y_train = training_processed.target\n",
        "X_test = test.text\n",
        "classifier=LogisticRegression(C=1.2, max_iter=1000)\n",
        "pipe = Pipeline([('vectorizer', tfidf_vector_tunned),\n",
        "                 ('classifier', classifier)])\n",
        "pipe.fit(X_train, y_train)\n",
        "y_pred_test=pipe.predict(X_test)"
      ],
      "execution_count": 175,
      "outputs": []
    },
    {
      "cell_type": "code",
      "metadata": {
        "id": "S0vG3zZzV_JF",
        "colab": {
          "base_uri": "https://localhost:8080/"
        },
        "outputId": "31b858fa-0129-469c-ae71-8958c3ce04bc"
      },
      "source": [
        "X_test\n",
        "print('Train accuracy: ', round(pipe.score(X_train, y_train),2))\n",
        "\n",
        "y_pred=pipe.predict(X_test)\n",
        "sample.target=y_pred\n",
        "sample.to_csv(r'sub17.csv', index = False)"
      ],
      "execution_count": 176,
      "outputs": [
        {
          "output_type": "stream",
          "text": [
            "Train accuracy:  0.93\n"
          ],
          "name": "stdout"
        }
      ]
    },
    {
      "cell_type": "markdown",
      "metadata": {
        "id": "rVLoUg2nV_JF"
      },
      "source": [
        "### Submission 18: LogisticRegression (C = 1.2), TF-IDF parameters tunning, Simple Tokenizer, Keywords and Tokens were merged"
      ]
    },
    {
      "cell_type": "code",
      "metadata": {
        "id": "mim2G9DGV_JG"
      },
      "source": [
        " tfidf_vector_tunned = TfidfVectorizer(tokenizer=spacy_tokenizer, \n",
        "                                   ngram_range=(1, 3),\n",
        "                                   min_df= 1, max_df=4.0, analyzer='word')"
      ],
      "execution_count": 177,
      "outputs": []
    },
    {
      "cell_type": "code",
      "metadata": {
        "id": "OI3u08CPV_JG"
      },
      "source": [
        "#split: We split the dataset in 80-20% in order to test our model\n",
        "X_train = X_train_split\n",
        "y_train = y_train_split\n",
        "X_test = X_test_split\n",
        "classifier=LogisticRegression(C=1.2, max_iter=1000)\n",
        "pipe = Pipeline([('vectorizer', tfidf_vector_tunned),\n",
        "                 ('classifier', classifier)])\n",
        "pipe.fit(X_train, y_train)\n",
        "y_pred_test=pipe.predict(X_test)"
      ],
      "execution_count": 178,
      "outputs": []
    },
    {
      "cell_type": "code",
      "metadata": {
        "id": "Lg3j21h1V_JG",
        "colab": {
          "base_uri": "https://localhost:8080/"
        },
        "outputId": "0d2e8b19-70ec-49e1-9a9a-a156f55789cc"
      },
      "source": [
        "round(accuracy_score(y_test_split, y_pred_test),3)"
      ],
      "execution_count": 179,
      "outputs": [
        {
          "output_type": "execute_result",
          "data": {
            "text/plain": [
              "0.802"
            ]
          },
          "metadata": {
            "tags": []
          },
          "execution_count": 179
        }
      ]
    },
    {
      "cell_type": "code",
      "metadata": {
        "id": "w_iB2RGJV_JG"
      },
      "source": [
        "X_train = training_processed.merged\n",
        "y_train = training_processed.target\n",
        "X_test = test.text\n",
        "classifier=LogisticRegression(C=1.2, max_iter=1000)\n",
        "pipe = Pipeline([('vectorizer', tfidf_vector_tunned),\n",
        "                 ('classifier', classifier)])\n",
        "pipe.fit(X_train, y_train)\n",
        "y_pred_test=pipe.predict(X_test)"
      ],
      "execution_count": 180,
      "outputs": []
    },
    {
      "cell_type": "code",
      "metadata": {
        "id": "38oVL-s2V_JG"
      },
      "source": [
        "y_pred=pipe.predict(X_test)\n",
        "sample.target=y_pred\n",
        "sample.to_csv(r'sub18.csv', index = False)"
      ],
      "execution_count": 181,
      "outputs": []
    },
    {
      "cell_type": "markdown",
      "metadata": {
        "id": "pUcYMINVMVi0"
      },
      "source": [
        "### Submission 19: KNN, k = 5"
      ]
    },
    {
      "cell_type": "code",
      "metadata": {
        "id": "u2jDtTIiV_JH",
        "colab": {
          "base_uri": "https://localhost:8080/",
          "height": 419
        },
        "outputId": "035d8b92-4445-45ed-81f4-31e19d819617"
      },
      "source": [
        "training_for_knn=training_processed[['keyword', 'location', 'text', 'target']]\n",
        "training_for_knn"
      ],
      "execution_count": 182,
      "outputs": [
        {
          "output_type": "execute_result",
          "data": {
            "text/html": [
              "<div>\n",
              "<style scoped>\n",
              "    .dataframe tbody tr th:only-of-type {\n",
              "        vertical-align: middle;\n",
              "    }\n",
              "\n",
              "    .dataframe tbody tr th {\n",
              "        vertical-align: top;\n",
              "    }\n",
              "\n",
              "    .dataframe thead th {\n",
              "        text-align: right;\n",
              "    }\n",
              "</style>\n",
              "<table border=\"1\" class=\"dataframe\">\n",
              "  <thead>\n",
              "    <tr style=\"text-align: right;\">\n",
              "      <th></th>\n",
              "      <th>keyword</th>\n",
              "      <th>location</th>\n",
              "      <th>text</th>\n",
              "      <th>target</th>\n",
              "    </tr>\n",
              "  </thead>\n",
              "  <tbody>\n",
              "    <tr>\n",
              "      <th>0</th>\n",
              "      <td>destroyed</td>\n",
              "      <td>USA</td>\n",
              "      <td>Black Eye 9: A space battle occurred at Star O...</td>\n",
              "      <td>0</td>\n",
              "    </tr>\n",
              "    <tr>\n",
              "      <th>1</th>\n",
              "      <td>bioterror</td>\n",
              "      <td>NaN</td>\n",
              "      <td>#world FedEx no longer to transport bioterror ...</td>\n",
              "      <td>0</td>\n",
              "    </tr>\n",
              "    <tr>\n",
              "      <th>2</th>\n",
              "      <td>windstorm</td>\n",
              "      <td>Palm Beach County, FL</td>\n",
              "      <td>Reality Training: Train falls off elevated tra...</td>\n",
              "      <td>1</td>\n",
              "    </tr>\n",
              "    <tr>\n",
              "      <th>3</th>\n",
              "      <td>hazardous</td>\n",
              "      <td>USA</td>\n",
              "      <td>#Taiwan Grace: expect that large rocks trees m...</td>\n",
              "      <td>1</td>\n",
              "    </tr>\n",
              "    <tr>\n",
              "      <th>4</th>\n",
              "      <td>hostage</td>\n",
              "      <td>Australia</td>\n",
              "      <td>New ISIS Video: ISIS Threatens to Behead Croat...</td>\n",
              "      <td>1</td>\n",
              "    </tr>\n",
              "    <tr>\n",
              "      <th>...</th>\n",
              "      <td>...</td>\n",
              "      <td>...</td>\n",
              "      <td>...</td>\n",
              "      <td>...</td>\n",
              "    </tr>\n",
              "    <tr>\n",
              "      <th>6466</th>\n",
              "      <td>earthquake</td>\n",
              "      <td>ARGENTINA</td>\n",
              "      <td>#Earthquake #Sismo M 1.9 - 15km E of Anchorage...</td>\n",
              "      <td>1</td>\n",
              "    </tr>\n",
              "    <tr>\n",
              "      <th>6467</th>\n",
              "      <td>derail</td>\n",
              "      <td>NaN</td>\n",
              "      <td>@EmiiliexIrwin Totally agree.She is 23 and kno...</td>\n",
              "      <td>0</td>\n",
              "    </tr>\n",
              "    <tr>\n",
              "      <th>6468</th>\n",
              "      <td>trapped</td>\n",
              "      <td>NaN</td>\n",
              "      <td>Hollywood Movie About Trapped Miners Released ...</td>\n",
              "      <td>1</td>\n",
              "    </tr>\n",
              "    <tr>\n",
              "      <th>6469</th>\n",
              "      <td>weapons</td>\n",
              "      <td>Beirut/Toronto</td>\n",
              "      <td>Friendly reminder that the only country to eve...</td>\n",
              "      <td>1</td>\n",
              "    </tr>\n",
              "    <tr>\n",
              "      <th>6470</th>\n",
              "      <td>buildings%20on%20fire</td>\n",
              "      <td>NaN</td>\n",
              "      <td>Buildings are on fire and they have time for a...</td>\n",
              "      <td>1</td>\n",
              "    </tr>\n",
              "  </tbody>\n",
              "</table>\n",
              "<p>6471 rows × 4 columns</p>\n",
              "</div>"
            ],
            "text/plain": [
              "                    keyword  ... target\n",
              "0                 destroyed  ...      0\n",
              "1                 bioterror  ...      0\n",
              "2                 windstorm  ...      1\n",
              "3                 hazardous  ...      1\n",
              "4                   hostage  ...      1\n",
              "...                     ...  ...    ...\n",
              "6466             earthquake  ...      1\n",
              "6467                 derail  ...      0\n",
              "6468                trapped  ...      1\n",
              "6469                weapons  ...      1\n",
              "6470  buildings%20on%20fire  ...      1\n",
              "\n",
              "[6471 rows x 4 columns]"
            ]
          },
          "metadata": {
            "tags": []
          },
          "execution_count": 182
        }
      ]
    },
    {
      "cell_type": "code",
      "metadata": {
        "id": "2ItFA_UnV_JH",
        "colab": {
          "base_uri": "https://localhost:8080/",
          "height": 779
        },
        "outputId": "98909cf0-5c43-4ba8-8c1f-b8e3ce31d742"
      },
      "source": [
        "# Label Encoding\n",
        "training_for_knn.keyword = training_for_knn.keyword.astype('category').cat.codes\n",
        "training_for_knn.location = training_for_knn.location.astype('category').cat.codes\n",
        "training_for_knn.text = training_for_knn.text.astype('category').cat.codes\n",
        "training_for_knn.target = training_for_knn.target.astype('category').cat.codes\n",
        "training_for_knn\n",
        "\n",
        "# Select Features\n",
        "X = training_for_knn.drop([\"target\"], axis=1)\n",
        "y = training_for_knn.target\n",
        "\n",
        "# Train test split\n",
        "from sklearn.model_selection import train_test_split\n",
        "X_train, X_test, y_train, y_test = train_test_split(X, y, test_size=0.2, random_state=72)\n",
        "X_train\n",
        "\n",
        "# Normalization (since distance)\n",
        "from sklearn.preprocessing import MinMaxScaler\n",
        "scaler = MinMaxScaler()\n",
        "scaler.fit(X_train) \n",
        "X_train_norm = scaler.transform(X_train)\n",
        "X_test_norm = scaler.transform(X_test)\n",
        "X_train_norm[:10]\n",
        "\n",
        "# Fit KNN model\n",
        "from sklearn.neighbors import KNeighborsClassifier\n",
        "k = 5\n",
        "knn = KNeighborsClassifier(n_neighbors=k)\n",
        "knn.fit(X_train_norm, y_train)\n",
        "\n",
        "# Prediction for test set\n",
        "y_pred = knn.predict(X_test_norm)\n",
        "\n",
        "# Evaluate model\n",
        "def accuracy_conf_mat(y_test, y_pred):\n",
        "  print(round(accuracy_score(y_test, y_pred), 4))\n",
        "  conf_mat = confusion_matrix(y_test, y_pred)\n",
        "  fig, ax = plt.subplots(figsize=(10,10))\n",
        "  sns.heatmap(conf_mat, annot=True, fmt='d')\n",
        "  plt.ylabel('Actual')\n",
        "  plt.xlabel('Predicted')\n",
        "  plt.show()\n",
        "\n",
        "accuracy_conf_mat(y_test, y_pred)"
      ],
      "execution_count": 183,
      "outputs": [
        {
          "output_type": "stream",
          "text": [
            "/usr/local/lib/python3.6/dist-packages/pandas/core/generic.py:5170: SettingWithCopyWarning:\n",
            "\n",
            "\n",
            "A value is trying to be set on a copy of a slice from a DataFrame.\n",
            "Try using .loc[row_indexer,col_indexer] = value instead\n",
            "\n",
            "See the caveats in the documentation: https://pandas.pydata.org/pandas-docs/stable/user_guide/indexing.html#returning-a-view-versus-a-copy\n",
            "\n"
          ],
          "name": "stderr"
        },
        {
          "output_type": "stream",
          "text": [
            "0.5737\n"
          ],
          "name": "stdout"
        },
        {
          "output_type": "display_data",
          "data": {
            "image/png": "[encoded data removed]",
            "text/plain": [
              "<Figure size 720x720 with 2 Axes>"
            ]
          },
          "metadata": {
            "tags": [],
            "needs_background": "light"
          }
        }
      ]
    },
    {
      "cell_type": "code",
      "metadata": {
        "id": "ByTMuKxxV_JH",
        "colab": {
          "base_uri": "https://localhost:8080/"
        },
        "outputId": "0925b285-a8a0-41d7-8201-55e64e485c06"
      },
      "source": [
        "# Grid Search - hyperparameters tunning\n",
        "from sklearn.model_selection import GridSearchCV\n",
        "\n",
        "# Define parameters to test\n",
        "grid = {'n_neighbors':np.arange(1,100),\n",
        "        'p':np.arange(1,3),\n",
        "        'weights':['uniform','distance']\n",
        "       }\n",
        "\n",
        "# Define and fit model\n",
        "knn = KNeighborsClassifier()\n",
        "knn_cv = GridSearchCV(knn, grid, cv=10)\n",
        "knn_cv.fit(X_train_norm, y_train)\n",
        "\n",
        "# Print results\n",
        "print(\"Hyperparameters:\", knn_cv.best_params_)\n",
        "print(\"Train Score:\", round(knn_cv.best_score_, 4))\n",
        "print(\"Test Score:\", round(knn_cv.score(X_test_norm, y_test), 4))"
      ],
      "execution_count": 184,
      "outputs": [
        {
          "output_type": "stream",
          "text": [
            "Hyperparameters: {'n_neighbors': 79, 'p': 1, 'weights': 'distance'}\n",
            "Train Score: 0.6188\n",
            "Test Score: 0.6193\n"
          ],
          "name": "stdout"
        }
      ]
    },
    {
      "cell_type": "code",
      "metadata": {
        "id": "wEhU9JlqV_JH",
        "colab": {
          "base_uri": "https://localhost:8080/",
          "height": 623
        },
        "outputId": "678bdf31-d898-4562-9b0f-085204ebcc67"
      },
      "source": [
        "# Fit optimal KNN model\n",
        "knn = KNeighborsClassifier(n_neighbors=1, p=2, weights='uniform')\n",
        "knn.fit(X_train_norm, y_train)\n",
        "\n",
        "# Prediction for test set\n",
        "y_pred = knn.predict(X_test_norm)\n",
        "\n",
        "# Evaluate model\n",
        "def accuracy_conf_mat(y_test, y_pred):\n",
        "  print(round(accuracy_score(y_test, y_pred), 4))\n",
        "  conf_mat = confusion_matrix(y_test, y_pred)\n",
        "  fig, ax = plt.subplots(figsize=(10,10))\n",
        "  sns.heatmap(conf_mat, annot=True, fmt='d')\n",
        "  plt.ylabel('Actual')\n",
        "  plt.xlabel('Predicted')\n",
        "  plt.show()\n",
        "\n",
        "accuracy_conf_mat(y_test, y_pred)"
      ],
      "execution_count": 185,
      "outputs": [
        {
          "output_type": "stream",
          "text": [
            "0.5714\n"
          ],
          "name": "stdout"
        },
        {
          "output_type": "display_data",
          "data": {
            "image/png": "[encoded data removed]",
            "text/plain": [
              "<Figure size 720x720 with 2 Axes>"
            ]
          },
          "metadata": {
            "tags": [],
            "needs_background": "light"
          }
        }
      ]
    }
  ]
}